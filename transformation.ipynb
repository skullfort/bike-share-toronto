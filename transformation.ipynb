{
 "cells": [
  {
   "cell_type": "code",
   "execution_count": 255,
   "id": "4341fcb4",
   "metadata": {},
   "outputs": [],
   "source": [
    "# Dependencies\n",
    "import os\n",
    "import json\n",
    "from pprint import pprint\n",
    "\n",
    "import pandas as pd\n",
    "import numpy as np\n",
    "import datetime as dt\n",
    "from matplotlib import pyplot as plt\n",
    "import seaborn as sns\n",
    "\n",
    "from sqlalchemy import create_engine"
   ]
  },
  {
   "cell_type": "code",
   "execution_count": 2,
   "id": "ef246dcb",
   "metadata": {},
   "outputs": [],
   "source": [
    "# Import the station info json file. \n",
    "with open(os.path.join('data', 'station_info.json')) as jsonfile:\n",
    "    station_info_json = json.load(jsonfile)"
   ]
  },
  {
   "cell_type": "code",
   "execution_count": 3,
   "id": "ee14dce9",
   "metadata": {},
   "outputs": [
    {
     "name": "stdout",
     "output_type": "stream",
     "text": [
      "There are currently 655 stations in the system.\n"
     ]
    }
   ],
   "source": [
    "# How many bike stations are there in total?\n",
    "station_ids_todate = [int(station['station_id']) for station in station_info_json]\n",
    "print(f'There are currently {len(station_ids_todate)} stations in the system.')"
   ]
  },
  {
   "cell_type": "code",
   "execution_count": 4,
   "id": "a201bcd5",
   "metadata": {},
   "outputs": [],
   "source": [
    "# Import the ridership CSV file.\n",
    "df = pd.read_csv(os.path.join('data', 'bst_ridership_2022.csv'))"
   ]
  },
  {
   "cell_type": "code",
   "execution_count": 5,
   "id": "3b51788e",
   "metadata": {},
   "outputs": [
    {
     "name": "stdout",
     "output_type": "stream",
     "text": [
      "<class 'pandas.core.frame.DataFrame'>\n",
      "RangeIndex: 4620469 entries, 0 to 4620468\n",
      "Data columns (total 10 columns):\n",
      " #   Column              Non-Null Count    Dtype  \n",
      "---  ------              --------------    -----  \n",
      " 0   Trip Id             4620469 non-null  int64  \n",
      " 1   Trip  Duration      4620469 non-null  int64  \n",
      " 2   Start Station Id    4620469 non-null  int64  \n",
      " 3   Start Time          4620469 non-null  object \n",
      " 4   Start Station Name  4437003 non-null  object \n",
      " 5   End Station Id      4619190 non-null  float64\n",
      " 6   End Time            4620469 non-null  object \n",
      " 7   End Station Name    4435503 non-null  object \n",
      " 8   Bike Id             4620469 non-null  int64  \n",
      " 9   User Type           4620469 non-null  object \n",
      "dtypes: float64(1), int64(4), object(5)\n",
      "memory usage: 352.5+ MB\n"
     ]
    }
   ],
   "source": [
    "df.info(show_counts=True)"
   ]
  },
  {
   "cell_type": "markdown",
   "id": "cf1a1a50",
   "metadata": {},
   "source": [
    "# Stage 1: Data Type Conversions"
   ]
  },
  {
   "cell_type": "code",
   "execution_count": 6,
   "id": "f180ab18",
   "metadata": {},
   "outputs": [
    {
     "name": "stdout",
     "output_type": "stream",
     "text": [
      "True\n"
     ]
    }
   ],
   "source": [
    "df_1 = df.copy()\n",
    "# Each trip is marked by a unqiue `Trip Id`, which means that the column can be simply dropped.\n",
    "print(df_1['Trip Id'].nunique() == len(df_1['Trip Id']))\n",
    "df_1.drop(columns=['Trip Id'], inplace=True)"
   ]
  },
  {
   "cell_type": "code",
   "execution_count": 7,
   "id": "e19456d2",
   "metadata": {},
   "outputs": [],
   "source": [
    "# Convert `Start Time` and `End Time` to datetime objects for easier downstream data manipulation.\n",
    "df_1['Start Time'] = pd.to_datetime(df_1['Start Time'])\n",
    "df_1['End Time'] = pd.to_datetime(df_1['End Time'])"
   ]
  },
  {
   "cell_type": "code",
   "execution_count": 8,
   "id": "255902b4",
   "metadata": {},
   "outputs": [],
   "source": [
    "# `End Station Id` should be of int64 type like `Start Station Id` but it's of float64 due to the presence of NaNs when read.\n",
    "df_1['End Station Id'] = df_1['End Station Id'].astype('Int64')"
   ]
  },
  {
   "cell_type": "code",
   "execution_count": 9,
   "id": "a936d382",
   "metadata": {},
   "outputs": [],
   "source": [
    "# Reorder the columns.\n",
    "df_1 = df_1.iloc[:, [2,5,0,1,3,4,6,7,8]]"
   ]
  },
  {
   "cell_type": "code",
   "execution_count": 307,
   "id": "6c00a1b9",
   "metadata": {},
   "outputs": [
    {
     "name": "stdout",
     "output_type": "stream",
     "text": [
      "<class 'pandas.core.frame.DataFrame'>\n",
      "RangeIndex: 4620469 entries, 0 to 4620468\n",
      "Data columns (total 9 columns):\n",
      " #   Column              Non-Null Count    Dtype         \n",
      "---  ------              --------------    -----         \n",
      " 0   Start Time          4620469 non-null  datetime64[ns]\n",
      " 1   End Time            4620469 non-null  datetime64[ns]\n",
      " 2   Trip  Duration      4620469 non-null  int64         \n",
      " 3   Start Station Id    4620469 non-null  int64         \n",
      " 4   Start Station Name  4437003 non-null  object        \n",
      " 5   End Station Id      4619190 non-null  Int64         \n",
      " 6   End Station Name    4435503 non-null  object        \n",
      " 7   Bike Id             4620469 non-null  int64         \n",
      " 8   User Type           4620469 non-null  object        \n",
      "dtypes: Int64(1), datetime64[ns](2), int64(3), object(3)\n",
      "memory usage: 321.7+ MB\n"
     ]
    }
   ],
   "source": [
    "df_1.info(show_counts=True)"
   ]
  },
  {
   "cell_type": "markdown",
   "id": "b55b177c",
   "metadata": {},
   "source": [
    "# Stage 2: Outliers in Trip Duration\n",
    "We need to eliminate obvious outliers for `Trip Duration`, such as those with 0 sec duration."
   ]
  },
  {
   "cell_type": "code",
   "execution_count": 309,
   "id": "e0b3d3d2",
   "metadata": {},
   "outputs": [
    {
     "name": "stdout",
     "output_type": "stream",
     "text": [
      "10834 records are removed.\n"
     ]
    }
   ],
   "source": [
    "df_2 = df_1.copy()\n",
    "\n",
    "# Rmove the substring `Member` in each record of `User Type`.\n",
    "df_2['User Type'] = df_1['User Type'].str.replace(' Member', '')\n",
    "\n",
    "# Change `Trip Duration` to `Duration`.\n",
    "df_2.rename(columns={'Trip  Duration': 'Duration'}, inplace=True)\n",
    "\n",
    "# Limit the trip length to 1 day (1440 minutes), also removing those with less than 1 min duration.\n",
    "df_2 = df_2[(df_2['Duration']>=60) & (df_2['Duration']<=(60*60*24))]\n",
    "print(f\"{len(df_1)-len(df_2)} records are removed.\")"
   ]
  },
  {
   "cell_type": "code",
   "execution_count": 310,
   "id": "7b329f16",
   "metadata": {},
   "outputs": [],
   "source": [
    "# # Compute the typical outlier detectors.\n",
    "# q1 = df_2['Duration'].quantile(0.25)\n",
    "# q3 = df_2['Duration'].quantile(0.75)\n",
    "# iqr = q3 - q1\n",
    "# print(f'q1={q1:.2f}, q3={q3:.2f}, iqr={iqr:.2f}')\n",
    "\n",
    "# outliers = df_2['Duration']>(q3+1.5*iqr)\n",
    "# # Note that q1-1.5*iqr is negative, so it's not included in the computation.\n",
    "# df_2[~outliers] # Can assign to df_2 if this approach is used.\n",
    "\n",
    "# # The way the distribution for casual members trails off here looks like information lost more than outlier removal.\n",
    "# # As such, the quantiles can be determined and the outliers removed for each group.\n",
    "# df_2[~outliers][df_2[~outliers]['User Type'] == 'Casual']['Duration'].hist(bins=30)\n",
    "# plt.xlim([0, q3+1.5*iqr])\n",
    "\n",
    "# # Compute the outliers for annual members.\n",
    "# df_2_annual = df_2[df_2['User Type'] == 'Annual Member']\n",
    "# q1 = df_2_annual['Duration'].quantile(0.25)\n",
    "# q3 = df_2_annual['Duration'].quantile(0.75)\n",
    "# iqr = q3 - q1\n",
    "# print(f'Annual Members: q1={q1:.2f}, q3={q3:.2f}, iqr={iqr:.2f}')\n",
    "# df_2_annual = df_2_annual[~(df_2_annual['Duration']>(q3+1.5*iqr))]\n",
    "\n",
    "# # Compute the outliers for casual members.\n",
    "# df_2_casual = df_2[df_2['User Type'] == 'Casual Member']\n",
    "# q1 = df_2_casual['Duration'].quantile(0.25)\n",
    "# q3 = df_2_casual['Duration'].quantile(0.75)\n",
    "# iqr = q3 - q1\n",
    "# print(f'Casual Members: q1={q1:.2f}, q3={q3:.2f}, iqr={iqr:.2f}')\n",
    "# df_2_casual = df_2_casual[~(df_2_casual['Duration']>(q3+1.5*iqr))]\n",
    "\n",
    "# pd.concat([df_2_annual, df_2_casual]) # Can assign to df_2 if this approach is used."
   ]
  },
  {
   "cell_type": "code",
   "execution_count": 311,
   "id": "da31aeac",
   "metadata": {},
   "outputs": [
    {
     "name": "stdout",
     "output_type": "stream",
     "text": [
      "<class 'pandas.core.frame.DataFrame'>\n",
      "Int64Index: 4609635 entries, 0 to 4620468\n",
      "Data columns (total 9 columns):\n",
      " #   Column              Non-Null Count    Dtype         \n",
      "---  ------              --------------    -----         \n",
      " 0   Start Time          4609635 non-null  datetime64[ns]\n",
      " 1   End Time            4609635 non-null  datetime64[ns]\n",
      " 2   Duration            4609635 non-null  int64         \n",
      " 3   Start Station Id    4609635 non-null  int64         \n",
      " 4   Start Station Name  4426570 non-null  object        \n",
      " 5   End Station Id      4609602 non-null  Int64         \n",
      " 6   End Station Name    4426353 non-null  object        \n",
      " 7   Bike Id             4609635 non-null  int64         \n",
      " 8   User Type           4609635 non-null  object        \n",
      "dtypes: Int64(1), datetime64[ns](2), int64(3), object(3)\n",
      "memory usage: 356.1+ MB\n"
     ]
    }
   ],
   "source": [
    "df_2.info(show_counts=True)"
   ]
  },
  {
   "cell_type": "markdown",
   "id": "43d8408c",
   "metadata": {},
   "source": [
    "## `User Type`"
   ]
  },
  {
   "cell_type": "code",
   "execution_count": 312,
   "id": "3449896c",
   "metadata": {},
   "outputs": [
    {
     "data": {
      "text/plain": [
       "Casual    2872858\n",
       "Annual    1736777\n",
       "Name: User Type, dtype: int64"
      ]
     },
     "execution_count": 312,
     "metadata": {},
     "output_type": "execute_result"
    }
   ],
   "source": [
    "df_2['User Type'].value_counts()"
   ]
  },
  {
   "cell_type": "code",
   "execution_count": 313,
   "id": "de4cac09",
   "metadata": {},
   "outputs": [
    {
     "data": {
      "text/plain": [
       "User Type\n",
       "Annual     700.816806\n",
       "Casual    1064.046363\n",
       "Name: Duration, dtype: float64"
      ]
     },
     "execution_count": 313,
     "metadata": {},
     "output_type": "execute_result"
    }
   ],
   "source": [
    "df_2.groupby('User Type')['Duration'].mean()"
   ]
  },
  {
   "cell_type": "code",
   "execution_count": 314,
   "id": "0af2a16a",
   "metadata": {},
   "outputs": [
    {
     "data": {
      "text/html": [
       "<div>\n",
       "<style scoped>\n",
       "    .dataframe tbody tr th:only-of-type {\n",
       "        vertical-align: middle;\n",
       "    }\n",
       "\n",
       "    .dataframe tbody tr th {\n",
       "        vertical-align: top;\n",
       "    }\n",
       "\n",
       "    .dataframe thead th {\n",
       "        text-align: right;\n",
       "    }\n",
       "</style>\n",
       "<table border=\"1\" class=\"dataframe\">\n",
       "  <thead>\n",
       "    <tr style=\"text-align: right;\">\n",
       "      <th></th>\n",
       "      <th>Date</th>\n",
       "      <th>Month</th>\n",
       "      <th>Day of Week</th>\n",
       "      <th>Hour</th>\n",
       "      <th>Duration</th>\n",
       "      <th>User Type</th>\n",
       "    </tr>\n",
       "  </thead>\n",
       "  <tbody>\n",
       "    <tr>\n",
       "      <th>0</th>\n",
       "      <td>2022-01-01</td>\n",
       "      <td>1</td>\n",
       "      <td>5</td>\n",
       "      <td>0</td>\n",
       "      <td>4335</td>\n",
       "      <td>Casual</td>\n",
       "    </tr>\n",
       "    <tr>\n",
       "      <th>1</th>\n",
       "      <td>2022-01-01</td>\n",
       "      <td>1</td>\n",
       "      <td>5</td>\n",
       "      <td>0</td>\n",
       "      <td>126</td>\n",
       "      <td>Annual</td>\n",
       "    </tr>\n",
       "    <tr>\n",
       "      <th>2</th>\n",
       "      <td>2022-01-01</td>\n",
       "      <td>1</td>\n",
       "      <td>5</td>\n",
       "      <td>0</td>\n",
       "      <td>942</td>\n",
       "      <td>Annual</td>\n",
       "    </tr>\n",
       "    <tr>\n",
       "      <th>3</th>\n",
       "      <td>2022-01-01</td>\n",
       "      <td>1</td>\n",
       "      <td>5</td>\n",
       "      <td>0</td>\n",
       "      <td>4256</td>\n",
       "      <td>Casual</td>\n",
       "    </tr>\n",
       "    <tr>\n",
       "      <th>4</th>\n",
       "      <td>2022-01-01</td>\n",
       "      <td>1</td>\n",
       "      <td>5</td>\n",
       "      <td>0</td>\n",
       "      <td>4353</td>\n",
       "      <td>Casual</td>\n",
       "    </tr>\n",
       "    <tr>\n",
       "      <th>...</th>\n",
       "      <td>...</td>\n",
       "      <td>...</td>\n",
       "      <td>...</td>\n",
       "      <td>...</td>\n",
       "      <td>...</td>\n",
       "      <td>...</td>\n",
       "    </tr>\n",
       "    <tr>\n",
       "      <th>4620464</th>\n",
       "      <td>2022-12-31</td>\n",
       "      <td>12</td>\n",
       "      <td>5</td>\n",
       "      <td>23</td>\n",
       "      <td>2825</td>\n",
       "      <td>Casual</td>\n",
       "    </tr>\n",
       "    <tr>\n",
       "      <th>4620465</th>\n",
       "      <td>2022-12-31</td>\n",
       "      <td>12</td>\n",
       "      <td>5</td>\n",
       "      <td>23</td>\n",
       "      <td>1764</td>\n",
       "      <td>Casual</td>\n",
       "    </tr>\n",
       "    <tr>\n",
       "      <th>4620466</th>\n",
       "      <td>2022-12-31</td>\n",
       "      <td>12</td>\n",
       "      <td>5</td>\n",
       "      <td>23</td>\n",
       "      <td>469</td>\n",
       "      <td>Casual</td>\n",
       "    </tr>\n",
       "    <tr>\n",
       "      <th>4620467</th>\n",
       "      <td>2022-12-31</td>\n",
       "      <td>12</td>\n",
       "      <td>5</td>\n",
       "      <td>23</td>\n",
       "      <td>588</td>\n",
       "      <td>Casual</td>\n",
       "    </tr>\n",
       "    <tr>\n",
       "      <th>4620468</th>\n",
       "      <td>2022-12-31</td>\n",
       "      <td>12</td>\n",
       "      <td>5</td>\n",
       "      <td>23</td>\n",
       "      <td>795</td>\n",
       "      <td>Casual</td>\n",
       "    </tr>\n",
       "  </tbody>\n",
       "</table>\n",
       "<p>4609635 rows × 6 columns</p>\n",
       "</div>"
      ],
      "text/plain": [
       "               Date  Month  Day of Week  Hour  Duration User Type\n",
       "0        2022-01-01      1            5     0      4335    Casual\n",
       "1        2022-01-01      1            5     0       126    Annual\n",
       "2        2022-01-01      1            5     0       942    Annual\n",
       "3        2022-01-01      1            5     0      4256    Casual\n",
       "4        2022-01-01      1            5     0      4353    Casual\n",
       "...             ...    ...          ...   ...       ...       ...\n",
       "4620464  2022-12-31     12            5    23      2825    Casual\n",
       "4620465  2022-12-31     12            5    23      1764    Casual\n",
       "4620466  2022-12-31     12            5    23       469    Casual\n",
       "4620467  2022-12-31     12            5    23       588    Casual\n",
       "4620468  2022-12-31     12            5    23       795    Casual\n",
       "\n",
       "[4609635 rows x 6 columns]"
      ]
     },
     "execution_count": 314,
     "metadata": {},
     "output_type": "execute_result"
    }
   ],
   "source": [
    "user = df_2.copy()\n",
    "\n",
    "ts = user['Start Time']\n",
    "user = user.assign(Date=ts.dt.date, Month=ts.dt.month, Day=ts.dt.dayofweek, Hour=ts.dt.hour)\n",
    "user.rename(columns={'Day': 'Day of Week'}, inplace=True)\n",
    "\n",
    "# Drop irrelevant columns.\n",
    "user.drop(columns=['Start Time', 'End Time', \n",
    "                   'Start Station Id', 'Start Station Name',\n",
    "                   'End Station Id', 'End Station Name', 'Bike Id'], inplace=True)\n",
    "\n",
    "# Reorder the columns.\n",
    "user = user.iloc[:, [2,3,4,5,0,1]]\n",
    "user"
   ]
  },
  {
   "cell_type": "code",
   "execution_count": 316,
   "id": "5081fd71",
   "metadata": {},
   "outputs": [
    {
     "data": {
      "image/png": "[encoded data removed]",
      "text/plain": [
       "<Figure size 432x288 with 1 Axes>"
      ]
     },
     "metadata": {
      "needs_background": "light"
     },
     "output_type": "display_data"
    }
   ],
   "source": [
    "# Group by `Date` to see the yearly trend for annual and casual members\n",
    "user.groupby(['Date', 'User Type'])['User Type'].count().unstack().plot();"
   ]
  },
  {
   "cell_type": "code",
   "execution_count": 317,
   "id": "d05f0101",
   "metadata": {},
   "outputs": [
    {
     "data": {
      "image/png": "[encoded data removed]",
      "text/plain": [
       "<Figure size 431x360 with 1 Axes>"
      ]
     },
     "metadata": {
      "needs_background": "light"
     },
     "output_type": "display_data"
    }
   ],
   "source": [
    "# Group by `Month` to see the yearly trend for annual and casual members\n",
    "user_by_month = user.groupby(['Month', 'User Type'])['User Type'].count().reset_index(name='Count')\n",
    "sns.catplot(data=user_by_month, kind='bar',\n",
    "            x='Month', y='Count', hue='User Type');"
   ]
  },
  {
   "cell_type": "code",
   "execution_count": 318,
   "id": "199e55d3",
   "metadata": {},
   "outputs": [
    {
     "data": {
      "image/png": "[encoded data removed]",
      "text/plain": [
       "<Figure size 431x360 with 1 Axes>"
      ]
     },
     "metadata": {
      "needs_background": "light"
     },
     "output_type": "display_data"
    }
   ],
   "source": [
    "# Group by `Day of Week` to see the yearly trend for annual and casual members\n",
    "user_by_month = user.groupby(['Day of Week', 'User Type'])['User Type'].count().reset_index(name='Count')\n",
    "sns.catplot(data=user_by_month, kind='bar',\n",
    "            x='Day of Week', y='Count', hue='User Type');"
   ]
  },
  {
   "cell_type": "code",
   "execution_count": 319,
   "id": "2e1d32f5",
   "metadata": {},
   "outputs": [
    {
     "data": {
      "image/png": "[encoded data removed]",
      "text/plain": [
       "<Figure size 431x360 with 1 Axes>"
      ]
     },
     "metadata": {
      "needs_background": "light"
     },
     "output_type": "display_data"
    }
   ],
   "source": [
    "# Group by `Day of Week` to see the yearly trend for annual and casual members\n",
    "user_by_month = user.groupby(['Hour', 'User Type'])['User Type'].count().reset_index(name='Count')\n",
    "sns.catplot(data=user_by_month, kind='bar',\n",
    "            x='Hour', y='Count', hue='User Type');"
   ]
  },
  {
   "cell_type": "code",
   "execution_count": 373,
   "id": "c4d01ef3",
   "metadata": {},
   "outputs": [
    {
     "data": {
      "image/png": "[encoded data removed]",
      "text/plain": [
       "<Figure size 432x288 with 1 Axes>"
      ]
     },
     "metadata": {
      "needs_background": "light"
     },
     "output_type": "display_data"
    }
   ],
   "source": [
    "user.groupby(['Day of Week', 'User Type'])['Duration'].mean().unstack().plot();"
   ]
  },
  {
   "cell_type": "code",
   "execution_count": 258,
   "id": "e9ca3b73",
   "metadata": {},
   "outputs": [],
   "source": [
    "# Load into database\n",
    "# engine = create_engine(f\"sqlite:///bst.sqlite\")\n",
    "# connection = engine.connect()\n",
    "# user_summary.to_sql('user', connection, if_exists='replace')"
   ]
  },
  {
   "cell_type": "markdown",
   "id": "044688c8",
   "metadata": {},
   "source": [
    "## `Bike Id`"
   ]
  },
  {
   "cell_type": "code",
   "execution_count": 321,
   "id": "2948fb3f",
   "metadata": {},
   "outputs": [
    {
     "data": {
      "text/html": [
       "<div>\n",
       "<style scoped>\n",
       "    .dataframe tbody tr th:only-of-type {\n",
       "        vertical-align: middle;\n",
       "    }\n",
       "\n",
       "    .dataframe tbody tr th {\n",
       "        vertical-align: top;\n",
       "    }\n",
       "\n",
       "    .dataframe thead th {\n",
       "        text-align: right;\n",
       "    }\n",
       "</style>\n",
       "<table border=\"1\" class=\"dataframe\">\n",
       "  <thead>\n",
       "    <tr style=\"text-align: right;\">\n",
       "      <th></th>\n",
       "      <th>Start Time</th>\n",
       "      <th>End Time</th>\n",
       "      <th>Duration</th>\n",
       "      <th>Start Station Id</th>\n",
       "      <th>Start Station Name</th>\n",
       "      <th>End Station Id</th>\n",
       "      <th>End Station Name</th>\n",
       "      <th>Bike Id</th>\n",
       "      <th>User Type</th>\n",
       "    </tr>\n",
       "  </thead>\n",
       "  <tbody>\n",
       "    <tr>\n",
       "      <th>0</th>\n",
       "      <td>2022-01-01 00:02:00</td>\n",
       "      <td>2022-01-01 01:15:00</td>\n",
       "      <td>4335</td>\n",
       "      <td>7334</td>\n",
       "      <td>Simcoe St / Wellington St North</td>\n",
       "      <td>7269</td>\n",
       "      <td>Toronto Eaton Centre (Yonge St)</td>\n",
       "      <td>5139</td>\n",
       "      <td>Casual</td>\n",
       "    </tr>\n",
       "    <tr>\n",
       "      <th>1</th>\n",
       "      <td>2022-01-01 00:02:00</td>\n",
       "      <td>2022-01-01 00:05:00</td>\n",
       "      <td>126</td>\n",
       "      <td>7443</td>\n",
       "      <td>Dundas St E / George St</td>\n",
       "      <td>7270</td>\n",
       "      <td>Church St / Dundas St E - SMART</td>\n",
       "      <td>3992</td>\n",
       "      <td>Annual</td>\n",
       "    </tr>\n",
       "    <tr>\n",
       "      <th>2</th>\n",
       "      <td>2022-01-01 00:04:00</td>\n",
       "      <td>2022-01-01 00:19:00</td>\n",
       "      <td>942</td>\n",
       "      <td>7399</td>\n",
       "      <td>Lower Jarvis / Queens Quay E</td>\n",
       "      <td>7686</td>\n",
       "      <td>NaN</td>\n",
       "      <td>361</td>\n",
       "      <td>Annual</td>\n",
       "    </tr>\n",
       "    <tr>\n",
       "      <th>3</th>\n",
       "      <td>2022-01-01 00:04:00</td>\n",
       "      <td>2022-01-01 01:15:00</td>\n",
       "      <td>4256</td>\n",
       "      <td>7334</td>\n",
       "      <td>Simcoe St / Wellington St North</td>\n",
       "      <td>7269</td>\n",
       "      <td>Toronto Eaton Centre (Yonge St)</td>\n",
       "      <td>4350</td>\n",
       "      <td>Casual</td>\n",
       "    </tr>\n",
       "    <tr>\n",
       "      <th>4</th>\n",
       "      <td>2022-01-01 00:05:00</td>\n",
       "      <td>2022-01-01 01:17:00</td>\n",
       "      <td>4353</td>\n",
       "      <td>7334</td>\n",
       "      <td>Simcoe St / Wellington St North</td>\n",
       "      <td>7038</td>\n",
       "      <td>Dundas St W / Yonge St</td>\n",
       "      <td>5074</td>\n",
       "      <td>Casual</td>\n",
       "    </tr>\n",
       "    <tr>\n",
       "      <th>...</th>\n",
       "      <td>...</td>\n",
       "      <td>...</td>\n",
       "      <td>...</td>\n",
       "      <td>...</td>\n",
       "      <td>...</td>\n",
       "      <td>...</td>\n",
       "      <td>...</td>\n",
       "      <td>...</td>\n",
       "      <td>...</td>\n",
       "    </tr>\n",
       "    <tr>\n",
       "      <th>4620464</th>\n",
       "      <td>2022-12-31 23:58:00</td>\n",
       "      <td>2023-01-01 00:45:00</td>\n",
       "      <td>2825</td>\n",
       "      <td>7374</td>\n",
       "      <td>Frederick St / The Esplanade</td>\n",
       "      <td>7048</td>\n",
       "      <td>Front St W / Yonge St (Hockey Hall of Fame)</td>\n",
       "      <td>788</td>\n",
       "      <td>Casual</td>\n",
       "    </tr>\n",
       "    <tr>\n",
       "      <th>4620465</th>\n",
       "      <td>2022-12-31 23:58:00</td>\n",
       "      <td>2023-01-01 00:27:00</td>\n",
       "      <td>1764</td>\n",
       "      <td>7029</td>\n",
       "      <td>Bay St / Bloor St W (East Side)</td>\n",
       "      <td>7164</td>\n",
       "      <td>Gould St / Yonge St (Ryerson University)</td>\n",
       "      <td>536</td>\n",
       "      <td>Casual</td>\n",
       "    </tr>\n",
       "    <tr>\n",
       "      <th>4620466</th>\n",
       "      <td>2022-12-31 23:58:00</td>\n",
       "      <td>2023-01-01 00:06:00</td>\n",
       "      <td>469</td>\n",
       "      <td>7713</td>\n",
       "      <td>NaN</td>\n",
       "      <td>7028</td>\n",
       "      <td>Gould St / Mutual St</td>\n",
       "      <td>6306</td>\n",
       "      <td>Casual</td>\n",
       "    </tr>\n",
       "    <tr>\n",
       "      <th>4620467</th>\n",
       "      <td>2022-12-31 23:59:00</td>\n",
       "      <td>2023-01-01 00:09:00</td>\n",
       "      <td>588</td>\n",
       "      <td>7130</td>\n",
       "      <td>Davenport Rd / Bedford Rd</td>\n",
       "      <td>7012</td>\n",
       "      <td>Elizabeth St / Edward St (Bus Terminal)</td>\n",
       "      <td>3182</td>\n",
       "      <td>Casual</td>\n",
       "    </tr>\n",
       "    <tr>\n",
       "      <th>4620468</th>\n",
       "      <td>2022-12-31 23:59:00</td>\n",
       "      <td>2023-01-01 00:13:00</td>\n",
       "      <td>795</td>\n",
       "      <td>7027</td>\n",
       "      <td>Beverley  St / Dundas St W</td>\n",
       "      <td>7269</td>\n",
       "      <td>Toronto Eaton Centre (Yonge St)</td>\n",
       "      <td>113</td>\n",
       "      <td>Casual</td>\n",
       "    </tr>\n",
       "  </tbody>\n",
       "</table>\n",
       "<p>4609635 rows × 9 columns</p>\n",
       "</div>"
      ],
      "text/plain": [
       "                 Start Time            End Time  Duration  Start Station Id  \\\n",
       "0       2022-01-01 00:02:00 2022-01-01 01:15:00      4335              7334   \n",
       "1       2022-01-01 00:02:00 2022-01-01 00:05:00       126              7443   \n",
       "2       2022-01-01 00:04:00 2022-01-01 00:19:00       942              7399   \n",
       "3       2022-01-01 00:04:00 2022-01-01 01:15:00      4256              7334   \n",
       "4       2022-01-01 00:05:00 2022-01-01 01:17:00      4353              7334   \n",
       "...                     ...                 ...       ...               ...   \n",
       "4620464 2022-12-31 23:58:00 2023-01-01 00:45:00      2825              7374   \n",
       "4620465 2022-12-31 23:58:00 2023-01-01 00:27:00      1764              7029   \n",
       "4620466 2022-12-31 23:58:00 2023-01-01 00:06:00       469              7713   \n",
       "4620467 2022-12-31 23:59:00 2023-01-01 00:09:00       588              7130   \n",
       "4620468 2022-12-31 23:59:00 2023-01-01 00:13:00       795              7027   \n",
       "\n",
       "                      Start Station Name  End Station Id  \\\n",
       "0        Simcoe St / Wellington St North            7269   \n",
       "1                Dundas St E / George St            7270   \n",
       "2           Lower Jarvis / Queens Quay E            7686   \n",
       "3        Simcoe St / Wellington St North            7269   \n",
       "4        Simcoe St / Wellington St North            7038   \n",
       "...                                  ...             ...   \n",
       "4620464     Frederick St / The Esplanade            7048   \n",
       "4620465  Bay St / Bloor St W (East Side)            7164   \n",
       "4620466                              NaN            7028   \n",
       "4620467        Davenport Rd / Bedford Rd            7012   \n",
       "4620468       Beverley  St / Dundas St W            7269   \n",
       "\n",
       "                                    End Station Name  Bike Id User Type  \n",
       "0                    Toronto Eaton Centre (Yonge St)     5139    Casual  \n",
       "1                    Church St / Dundas St E - SMART     3992    Annual  \n",
       "2                                                NaN      361    Annual  \n",
       "3                    Toronto Eaton Centre (Yonge St)     4350    Casual  \n",
       "4                             Dundas St W / Yonge St     5074    Casual  \n",
       "...                                              ...      ...       ...  \n",
       "4620464  Front St W / Yonge St (Hockey Hall of Fame)      788    Casual  \n",
       "4620465     Gould St / Yonge St (Ryerson University)      536    Casual  \n",
       "4620466                         Gould St / Mutual St     6306    Casual  \n",
       "4620467      Elizabeth St / Edward St (Bus Terminal)     3182    Casual  \n",
       "4620468              Toronto Eaton Centre (Yonge St)      113    Casual  \n",
       "\n",
       "[4609635 rows x 9 columns]"
      ]
     },
     "execution_count": 321,
     "metadata": {},
     "output_type": "execute_result"
    }
   ],
   "source": [
    "df_2"
   ]
  },
  {
   "cell_type": "code",
   "execution_count": 322,
   "id": "3d3e08be",
   "metadata": {},
   "outputs": [],
   "source": [
    "def bike_agg(x):\n",
    "    features ={\n",
    "        # Stagnation\n",
    "        'First Pickup': x['Start Time'].min(),\n",
    "        'Last Dropoff': x['End Time'].max(),\n",
    "        'Service Period': x['End Time'].max() - x['Start Time'].min(),\n",
    "        'Total Usage': x['Duration'].sum(),\n",
    "        'Total Trips': x['Duration'].count(),\n",
    "        'Longest Trip': x['Duration'].max(),\n",
    "        'Shortest Trip': x['Duration'].min(),\n",
    "        'Average Trip': x['Duration'].mean()\n",
    "    }\n",
    "    return pd.Series(features, index=features.keys())\n",
    "\n",
    "bike = df_2.groupby('Bike Id').apply(bike_agg)"
   ]
  },
  {
   "cell_type": "code",
   "execution_count": 323,
   "id": "d7baacbb",
   "metadata": {},
   "outputs": [
    {
     "data": {
      "text/html": [
       "<div>\n",
       "<style scoped>\n",
       "    .dataframe tbody tr th:only-of-type {\n",
       "        vertical-align: middle;\n",
       "    }\n",
       "\n",
       "    .dataframe tbody tr th {\n",
       "        vertical-align: top;\n",
       "    }\n",
       "\n",
       "    .dataframe thead th {\n",
       "        text-align: right;\n",
       "    }\n",
       "</style>\n",
       "<table border=\"1\" class=\"dataframe\">\n",
       "  <thead>\n",
       "    <tr style=\"text-align: right;\">\n",
       "      <th></th>\n",
       "      <th>First Pickup</th>\n",
       "      <th>Last Dropoff</th>\n",
       "      <th>Service Period</th>\n",
       "      <th>Total Usage</th>\n",
       "      <th>Total Trips</th>\n",
       "      <th>Longest Trip</th>\n",
       "      <th>Shortest Trip</th>\n",
       "      <th>Average Trip</th>\n",
       "    </tr>\n",
       "    <tr>\n",
       "      <th>Bike Id</th>\n",
       "      <th></th>\n",
       "      <th></th>\n",
       "      <th></th>\n",
       "      <th></th>\n",
       "      <th></th>\n",
       "      <th></th>\n",
       "      <th></th>\n",
       "      <th></th>\n",
       "    </tr>\n",
       "  </thead>\n",
       "  <tbody>\n",
       "    <tr>\n",
       "      <th>15</th>\n",
       "      <td>2022-01-01 15:15:00</td>\n",
       "      <td>2022-12-07 15:49:00</td>\n",
       "      <td>340 days 00:34:00</td>\n",
       "      <td>335019</td>\n",
       "      <td>440</td>\n",
       "      <td>15177</td>\n",
       "      <td>70</td>\n",
       "      <td>761.406818</td>\n",
       "    </tr>\n",
       "    <tr>\n",
       "      <th>16</th>\n",
       "      <td>2022-01-04 16:01:00</td>\n",
       "      <td>2022-11-05 18:09:00</td>\n",
       "      <td>305 days 02:08:00</td>\n",
       "      <td>529038</td>\n",
       "      <td>547</td>\n",
       "      <td>36757</td>\n",
       "      <td>98</td>\n",
       "      <td>967.162706</td>\n",
       "    </tr>\n",
       "    <tr>\n",
       "      <th>17</th>\n",
       "      <td>2022-01-29 14:38:00</td>\n",
       "      <td>2022-12-27 11:47:00</td>\n",
       "      <td>331 days 21:09:00</td>\n",
       "      <td>174547</td>\n",
       "      <td>206</td>\n",
       "      <td>10252</td>\n",
       "      <td>69</td>\n",
       "      <td>847.315534</td>\n",
       "    </tr>\n",
       "    <tr>\n",
       "      <th>18</th>\n",
       "      <td>2022-01-05 08:33:00</td>\n",
       "      <td>2022-12-31 21:43:00</td>\n",
       "      <td>360 days 13:10:00</td>\n",
       "      <td>636011</td>\n",
       "      <td>645</td>\n",
       "      <td>53856</td>\n",
       "      <td>65</td>\n",
       "      <td>986.063566</td>\n",
       "    </tr>\n",
       "    <tr>\n",
       "      <th>19</th>\n",
       "      <td>2022-01-07 10:57:00</td>\n",
       "      <td>2022-12-30 14:52:00</td>\n",
       "      <td>357 days 03:55:00</td>\n",
       "      <td>555894</td>\n",
       "      <td>563</td>\n",
       "      <td>14161</td>\n",
       "      <td>61</td>\n",
       "      <td>987.378330</td>\n",
       "    </tr>\n",
       "    <tr>\n",
       "      <th>...</th>\n",
       "      <td>...</td>\n",
       "      <td>...</td>\n",
       "      <td>...</td>\n",
       "      <td>...</td>\n",
       "      <td>...</td>\n",
       "      <td>...</td>\n",
       "      <td>...</td>\n",
       "      <td>...</td>\n",
       "    </tr>\n",
       "    <tr>\n",
       "      <th>7259</th>\n",
       "      <td>2022-08-05 18:27:00</td>\n",
       "      <td>2022-12-21 09:20:00</td>\n",
       "      <td>137 days 14:53:00</td>\n",
       "      <td>585248</td>\n",
       "      <td>537</td>\n",
       "      <td>12466</td>\n",
       "      <td>66</td>\n",
       "      <td>1089.847300</td>\n",
       "    </tr>\n",
       "    <tr>\n",
       "      <th>7260</th>\n",
       "      <td>2022-08-04 01:47:00</td>\n",
       "      <td>2022-12-27 05:27:00</td>\n",
       "      <td>145 days 03:40:00</td>\n",
       "      <td>649029</td>\n",
       "      <td>513</td>\n",
       "      <td>44268</td>\n",
       "      <td>74</td>\n",
       "      <td>1265.163743</td>\n",
       "    </tr>\n",
       "    <tr>\n",
       "      <th>7261</th>\n",
       "      <td>2022-08-04 18:32:00</td>\n",
       "      <td>2022-11-28 16:05:00</td>\n",
       "      <td>115 days 21:33:00</td>\n",
       "      <td>496988</td>\n",
       "      <td>480</td>\n",
       "      <td>12107</td>\n",
       "      <td>66</td>\n",
       "      <td>1035.391667</td>\n",
       "    </tr>\n",
       "    <tr>\n",
       "      <th>7262</th>\n",
       "      <td>2022-08-07 15:06:00</td>\n",
       "      <td>2022-12-29 14:55:00</td>\n",
       "      <td>143 days 23:49:00</td>\n",
       "      <td>570524</td>\n",
       "      <td>529</td>\n",
       "      <td>4239</td>\n",
       "      <td>75</td>\n",
       "      <td>1078.495274</td>\n",
       "    </tr>\n",
       "    <tr>\n",
       "      <th>7263</th>\n",
       "      <td>2022-08-04 12:18:00</td>\n",
       "      <td>2022-08-05 08:00:00</td>\n",
       "      <td>0 days 19:42:00</td>\n",
       "      <td>21220</td>\n",
       "      <td>19</td>\n",
       "      <td>3219</td>\n",
       "      <td>198</td>\n",
       "      <td>1116.842105</td>\n",
       "    </tr>\n",
       "  </tbody>\n",
       "</table>\n",
       "<p>6829 rows × 8 columns</p>\n",
       "</div>"
      ],
      "text/plain": [
       "               First Pickup        Last Dropoff    Service Period  \\\n",
       "Bike Id                                                             \n",
       "15      2022-01-01 15:15:00 2022-12-07 15:49:00 340 days 00:34:00   \n",
       "16      2022-01-04 16:01:00 2022-11-05 18:09:00 305 days 02:08:00   \n",
       "17      2022-01-29 14:38:00 2022-12-27 11:47:00 331 days 21:09:00   \n",
       "18      2022-01-05 08:33:00 2022-12-31 21:43:00 360 days 13:10:00   \n",
       "19      2022-01-07 10:57:00 2022-12-30 14:52:00 357 days 03:55:00   \n",
       "...                     ...                 ...               ...   \n",
       "7259    2022-08-05 18:27:00 2022-12-21 09:20:00 137 days 14:53:00   \n",
       "7260    2022-08-04 01:47:00 2022-12-27 05:27:00 145 days 03:40:00   \n",
       "7261    2022-08-04 18:32:00 2022-11-28 16:05:00 115 days 21:33:00   \n",
       "7262    2022-08-07 15:06:00 2022-12-29 14:55:00 143 days 23:49:00   \n",
       "7263    2022-08-04 12:18:00 2022-08-05 08:00:00   0 days 19:42:00   \n",
       "\n",
       "         Total Usage  Total Trips  Longest Trip  Shortest Trip  Average Trip  \n",
       "Bike Id                                                                       \n",
       "15            335019          440         15177             70    761.406818  \n",
       "16            529038          547         36757             98    967.162706  \n",
       "17            174547          206         10252             69    847.315534  \n",
       "18            636011          645         53856             65    986.063566  \n",
       "19            555894          563         14161             61    987.378330  \n",
       "...              ...          ...           ...            ...           ...  \n",
       "7259          585248          537         12466             66   1089.847300  \n",
       "7260          649029          513         44268             74   1265.163743  \n",
       "7261          496988          480         12107             66   1035.391667  \n",
       "7262          570524          529          4239             75   1078.495274  \n",
       "7263           21220           19          3219            198   1116.842105  \n",
       "\n",
       "[6829 rows x 8 columns]"
      ]
     },
     "execution_count": 323,
     "metadata": {},
     "output_type": "execute_result"
    }
   ],
   "source": [
    "bike"
   ]
  },
  {
   "cell_type": "code",
   "execution_count": 324,
   "id": "62d4f418",
   "metadata": {},
   "outputs": [
    {
     "data": {
      "image/png": "[encoded data removed]",
      "text/plain": [
       "<Figure size 432x288 with 1 Axes>"
      ]
     },
     "metadata": {
      "needs_background": "light"
     },
     "output_type": "display_data"
    }
   ],
   "source": [
    "bike['Total Usage'].hist(bins=100)\n",
    "plt.xlim([0, 1.2e6]);"
   ]
  },
  {
   "cell_type": "code",
   "execution_count": 325,
   "id": "338364b5",
   "metadata": {},
   "outputs": [
    {
     "data": {
      "text/plain": [
       "First Pickup      2022-12-30 10:36:00\n",
       "Last Dropoff      2022-12-30 11:06:00\n",
       "Service Period        0 days 00:30:00\n",
       "Total Usage                      1803\n",
       "Total Trips                         1\n",
       "Longest Trip                     1803\n",
       "Shortest Trip                    1803\n",
       "Average Trip                   1803.0\n",
       "Name: 513, dtype: object"
      ]
     },
     "execution_count": 325,
     "metadata": {},
     "output_type": "execute_result"
    }
   ],
   "source": [
    "# One really cool feature would be to select a bike ID from the database and show all the logged activites on an open map.\n",
    "# However, consider this: 6800 bikes and 4 million records...\n",
    "bike.loc[513]"
   ]
  },
  {
   "cell_type": "code",
   "execution_count": 327,
   "id": "15299eb5",
   "metadata": {},
   "outputs": [
    {
     "data": {
      "text/plain": [
       "Bike Id\n",
       "1986       1\n",
       "1253       1\n",
       "513        1\n",
       "2186       2\n",
       "2390       2\n",
       "        ... \n",
       "6005    1235\n",
       "6070    1237\n",
       "5427    1300\n",
       "6839    1339\n",
       "6775    1418\n",
       "Name: Total Trips, Length: 6829, dtype: int64"
      ]
     },
     "execution_count": 327,
     "metadata": {},
     "output_type": "execute_result"
    }
   ],
   "source": [
    "bike['Total Trips'].sort_values()"
   ]
  },
  {
   "cell_type": "code",
   "execution_count": 260,
   "id": "31f84d4c",
   "metadata": {},
   "outputs": [],
   "source": [
    "# engine = create_engine(f\"sqlite:///bst2022.sqlite\")\n",
    "# connection = engine.connect()\n",
    "# bike.to_sql('bike', connection, if_exists='replace')"
   ]
  },
  {
   "cell_type": "markdown",
   "id": "8ee8b84e",
   "metadata": {},
   "source": [
    "## Stage 3: All about station ids"
   ]
  },
  {
   "cell_type": "code",
   "execution_count": 329,
   "id": "75f5af73",
   "metadata": {},
   "outputs": [
    {
     "name": "stdout",
     "output_type": "stream",
     "text": [
      "<class 'pandas.core.frame.DataFrame'>\n",
      "Int64Index: 4609635 entries, 0 to 4620468\n",
      "Data columns (total 9 columns):\n",
      " #   Column              Non-Null Count    Dtype         \n",
      "---  ------              --------------    -----         \n",
      " 0   Start Time          4609635 non-null  datetime64[ns]\n",
      " 1   End Time            4609635 non-null  datetime64[ns]\n",
      " 2   Duration            4609635 non-null  int64         \n",
      " 3   Start Station Id    4609635 non-null  int64         \n",
      " 4   Start Station Name  4426570 non-null  object        \n",
      " 5   End Station Id      4609602 non-null  Int64         \n",
      " 6   End Station Name    4426353 non-null  object        \n",
      " 7   Bike Id             4609635 non-null  int64         \n",
      " 8   User Type           4609635 non-null  object        \n",
      "dtypes: Int64(1), datetime64[ns](2), int64(3), object(3)\n",
      "memory usage: 356.1+ MB\n"
     ]
    }
   ],
   "source": [
    "df_2.info(show_counts=True)"
   ]
  },
  {
   "cell_type": "code",
   "execution_count": 366,
   "id": "f927478f",
   "metadata": {},
   "outputs": [],
   "source": [
    "df_3 = df_2.copy()"
   ]
  },
  {
   "cell_type": "code",
   "execution_count": 367,
   "id": "ea145cab",
   "metadata": {},
   "outputs": [],
   "source": [
    "df_3.drop(columns=['Start Station Name', 'End Station Name'], inplace=True)\n",
    "df_3.dropna(inplace=True)"
   ]
  },
  {
   "cell_type": "code",
   "execution_count": 368,
   "id": "fe75abb5",
   "metadata": {},
   "outputs": [
    {
     "name": "stdout",
     "output_type": "stream",
     "text": [
      "<class 'pandas.core.frame.DataFrame'>\n",
      "Int64Index: 4609602 entries, 0 to 4620468\n",
      "Data columns (total 7 columns):\n",
      " #   Column            Non-Null Count    Dtype         \n",
      "---  ------            --------------    -----         \n",
      " 0   Start Time        4609602 non-null  datetime64[ns]\n",
      " 1   End Time          4609602 non-null  datetime64[ns]\n",
      " 2   Duration          4609602 non-null  int64         \n",
      " 3   Start Station Id  4609602 non-null  int64         \n",
      " 4   End Station Id    4609602 non-null  Int64         \n",
      " 5   Bike Id           4609602 non-null  int64         \n",
      " 6   User Type         4609602 non-null  object        \n",
      "dtypes: Int64(1), datetime64[ns](2), int64(3), object(1)\n",
      "memory usage: 285.7+ MB\n"
     ]
    }
   ],
   "source": [
    "df_3.info(show_counts=True)"
   ]
  },
  {
   "cell_type": "code",
   "execution_count": 369,
   "id": "1fff5199",
   "metadata": {},
   "outputs": [
    {
     "data": {
      "text/plain": [
       "38"
      ]
     },
     "execution_count": 369,
     "metadata": {},
     "output_type": "execute_result"
    }
   ],
   "source": [
    "# Compute how many stations are missing coord info if we want to map the results downstream through Leaflet\n",
    "station_id = df_3['Start Station Id'].unique()\n",
    "missing_station_id = []\n",
    "for i in station_id:\n",
    "    if i not in station_ids_todate:\n",
    "        missing_station_id.append(i)\n",
    "len(missing_station_id)"
   ]
  },
  {
   "cell_type": "code",
   "execution_count": 370,
   "id": "de11991e",
   "metadata": {},
   "outputs": [
    {
     "name": "stdout",
     "output_type": "stream",
     "text": [
      "8.3% of records would be removed if we proceeded with the latest station info.\n"
     ]
    }
   ],
   "source": [
    "# How many records have station IDs missing in the todate info?\n",
    "missing_start = df_3['Start Station Id'].isin(missing_station_id)\n",
    "missing_end = df_3['End Station Id'].isin(missing_station_id)\n",
    "print(f'{(missing_start | missing_end).sum()/len(df_3):.1%} of records would be removed if we proceeded with the latest station info.')"
   ]
  },
  {
   "cell_type": "code",
   "execution_count": 371,
   "id": "d0c9adc2",
   "metadata": {},
   "outputs": [
    {
     "data": {
      "text/html": [
       "<div>\n",
       "<style scoped>\n",
       "    .dataframe tbody tr th:only-of-type {\n",
       "        vertical-align: middle;\n",
       "    }\n",
       "\n",
       "    .dataframe tbody tr th {\n",
       "        vertical-align: top;\n",
       "    }\n",
       "\n",
       "    .dataframe thead th {\n",
       "        text-align: right;\n",
       "    }\n",
       "</style>\n",
       "<table border=\"1\" class=\"dataframe\">\n",
       "  <thead>\n",
       "    <tr style=\"text-align: right;\">\n",
       "      <th></th>\n",
       "      <th>Start Time</th>\n",
       "      <th>End Time</th>\n",
       "      <th>Duration</th>\n",
       "      <th>Start Station Id</th>\n",
       "      <th>End Station Id</th>\n",
       "      <th>Bike Id</th>\n",
       "      <th>User Type</th>\n",
       "    </tr>\n",
       "  </thead>\n",
       "  <tbody>\n",
       "    <tr>\n",
       "      <th>0</th>\n",
       "      <td>2022-01-01 00:02:00</td>\n",
       "      <td>2022-01-01 01:15:00</td>\n",
       "      <td>4335</td>\n",
       "      <td>7334</td>\n",
       "      <td>7269</td>\n",
       "      <td>5139</td>\n",
       "      <td>Casual</td>\n",
       "    </tr>\n",
       "    <tr>\n",
       "      <th>1</th>\n",
       "      <td>2022-01-01 00:02:00</td>\n",
       "      <td>2022-01-01 00:05:00</td>\n",
       "      <td>126</td>\n",
       "      <td>7443</td>\n",
       "      <td>7270</td>\n",
       "      <td>3992</td>\n",
       "      <td>Annual</td>\n",
       "    </tr>\n",
       "    <tr>\n",
       "      <th>2</th>\n",
       "      <td>2022-01-01 00:04:00</td>\n",
       "      <td>2022-01-01 00:19:00</td>\n",
       "      <td>942</td>\n",
       "      <td>7399</td>\n",
       "      <td>7686</td>\n",
       "      <td>361</td>\n",
       "      <td>Annual</td>\n",
       "    </tr>\n",
       "    <tr>\n",
       "      <th>3</th>\n",
       "      <td>2022-01-01 00:04:00</td>\n",
       "      <td>2022-01-01 01:15:00</td>\n",
       "      <td>4256</td>\n",
       "      <td>7334</td>\n",
       "      <td>7269</td>\n",
       "      <td>4350</td>\n",
       "      <td>Casual</td>\n",
       "    </tr>\n",
       "    <tr>\n",
       "      <th>4</th>\n",
       "      <td>2022-01-01 00:05:00</td>\n",
       "      <td>2022-01-01 01:17:00</td>\n",
       "      <td>4353</td>\n",
       "      <td>7334</td>\n",
       "      <td>7038</td>\n",
       "      <td>5074</td>\n",
       "      <td>Casual</td>\n",
       "    </tr>\n",
       "    <tr>\n",
       "      <th>...</th>\n",
       "      <td>...</td>\n",
       "      <td>...</td>\n",
       "      <td>...</td>\n",
       "      <td>...</td>\n",
       "      <td>...</td>\n",
       "      <td>...</td>\n",
       "      <td>...</td>\n",
       "    </tr>\n",
       "    <tr>\n",
       "      <th>4620464</th>\n",
       "      <td>2022-12-31 23:58:00</td>\n",
       "      <td>2023-01-01 00:45:00</td>\n",
       "      <td>2825</td>\n",
       "      <td>7374</td>\n",
       "      <td>7048</td>\n",
       "      <td>788</td>\n",
       "      <td>Casual</td>\n",
       "    </tr>\n",
       "    <tr>\n",
       "      <th>4620465</th>\n",
       "      <td>2022-12-31 23:58:00</td>\n",
       "      <td>2023-01-01 00:27:00</td>\n",
       "      <td>1764</td>\n",
       "      <td>7029</td>\n",
       "      <td>7164</td>\n",
       "      <td>536</td>\n",
       "      <td>Casual</td>\n",
       "    </tr>\n",
       "    <tr>\n",
       "      <th>4620466</th>\n",
       "      <td>2022-12-31 23:58:00</td>\n",
       "      <td>2023-01-01 00:06:00</td>\n",
       "      <td>469</td>\n",
       "      <td>7713</td>\n",
       "      <td>7028</td>\n",
       "      <td>6306</td>\n",
       "      <td>Casual</td>\n",
       "    </tr>\n",
       "    <tr>\n",
       "      <th>4620467</th>\n",
       "      <td>2022-12-31 23:59:00</td>\n",
       "      <td>2023-01-01 00:09:00</td>\n",
       "      <td>588</td>\n",
       "      <td>7130</td>\n",
       "      <td>7012</td>\n",
       "      <td>3182</td>\n",
       "      <td>Casual</td>\n",
       "    </tr>\n",
       "    <tr>\n",
       "      <th>4620468</th>\n",
       "      <td>2022-12-31 23:59:00</td>\n",
       "      <td>2023-01-01 00:13:00</td>\n",
       "      <td>795</td>\n",
       "      <td>7027</td>\n",
       "      <td>7269</td>\n",
       "      <td>113</td>\n",
       "      <td>Casual</td>\n",
       "    </tr>\n",
       "  </tbody>\n",
       "</table>\n",
       "<p>4225333 rows × 7 columns</p>\n",
       "</div>"
      ],
      "text/plain": [
       "                 Start Time            End Time  Duration  Start Station Id  \\\n",
       "0       2022-01-01 00:02:00 2022-01-01 01:15:00      4335              7334   \n",
       "1       2022-01-01 00:02:00 2022-01-01 00:05:00       126              7443   \n",
       "2       2022-01-01 00:04:00 2022-01-01 00:19:00       942              7399   \n",
       "3       2022-01-01 00:04:00 2022-01-01 01:15:00      4256              7334   \n",
       "4       2022-01-01 00:05:00 2022-01-01 01:17:00      4353              7334   \n",
       "...                     ...                 ...       ...               ...   \n",
       "4620464 2022-12-31 23:58:00 2023-01-01 00:45:00      2825              7374   \n",
       "4620465 2022-12-31 23:58:00 2023-01-01 00:27:00      1764              7029   \n",
       "4620466 2022-12-31 23:58:00 2023-01-01 00:06:00       469              7713   \n",
       "4620467 2022-12-31 23:59:00 2023-01-01 00:09:00       588              7130   \n",
       "4620468 2022-12-31 23:59:00 2023-01-01 00:13:00       795              7027   \n",
       "\n",
       "         End Station Id  Bike Id User Type  \n",
       "0                  7269     5139    Casual  \n",
       "1                  7270     3992    Annual  \n",
       "2                  7686      361    Annual  \n",
       "3                  7269     4350    Casual  \n",
       "4                  7038     5074    Casual  \n",
       "...                 ...      ...       ...  \n",
       "4620464            7048      788    Casual  \n",
       "4620465            7164      536    Casual  \n",
       "4620466            7028     6306    Casual  \n",
       "4620467            7012     3182    Casual  \n",
       "4620468            7269      113    Casual  \n",
       "\n",
       "[4225333 rows x 7 columns]"
      ]
     },
     "execution_count": 371,
     "metadata": {},
     "output_type": "execute_result"
    }
   ],
   "source": [
    "df_3 = df_3[(~missing_start) & (~missing_end)]\n",
    "df_3"
   ]
  },
  {
   "cell_type": "code",
   "execution_count": 347,
   "id": "a69ecbb7",
   "metadata": {},
   "outputs": [
    {
     "data": {
      "text/html": [
       "<div>\n",
       "<style scoped>\n",
       "    .dataframe tbody tr th:only-of-type {\n",
       "        vertical-align: middle;\n",
       "    }\n",
       "\n",
       "    .dataframe tbody tr th {\n",
       "        vertical-align: top;\n",
       "    }\n",
       "\n",
       "    .dataframe thead th {\n",
       "        text-align: right;\n",
       "    }\n",
       "</style>\n",
       "<table border=\"1\" class=\"dataframe\">\n",
       "  <thead>\n",
       "    <tr style=\"text-align: right;\">\n",
       "      <th></th>\n",
       "      <th>Start Time</th>\n",
       "      <th>End Time</th>\n",
       "      <th>Duration</th>\n",
       "      <th>Start Station Id</th>\n",
       "      <th>End Station Id</th>\n",
       "      <th>Bike Id</th>\n",
       "      <th>User Type</th>\n",
       "    </tr>\n",
       "  </thead>\n",
       "  <tbody>\n",
       "    <tr>\n",
       "      <th>0</th>\n",
       "      <td>2022-01-01 00:02:00</td>\n",
       "      <td>2022-01-01 01:15:00</td>\n",
       "      <td>4335</td>\n",
       "      <td>7334</td>\n",
       "      <td>7269</td>\n",
       "      <td>5139</td>\n",
       "      <td>Casual</td>\n",
       "    </tr>\n",
       "    <tr>\n",
       "      <th>1</th>\n",
       "      <td>2022-01-01 00:02:00</td>\n",
       "      <td>2022-01-01 00:05:00</td>\n",
       "      <td>126</td>\n",
       "      <td>7443</td>\n",
       "      <td>7270</td>\n",
       "      <td>3992</td>\n",
       "      <td>Annual</td>\n",
       "    </tr>\n",
       "    <tr>\n",
       "      <th>2</th>\n",
       "      <td>2022-01-01 00:04:00</td>\n",
       "      <td>2022-01-01 00:19:00</td>\n",
       "      <td>942</td>\n",
       "      <td>7399</td>\n",
       "      <td>7686</td>\n",
       "      <td>361</td>\n",
       "      <td>Annual</td>\n",
       "    </tr>\n",
       "    <tr>\n",
       "      <th>3</th>\n",
       "      <td>2022-01-01 00:04:00</td>\n",
       "      <td>2022-01-01 01:15:00</td>\n",
       "      <td>4256</td>\n",
       "      <td>7334</td>\n",
       "      <td>7269</td>\n",
       "      <td>4350</td>\n",
       "      <td>Casual</td>\n",
       "    </tr>\n",
       "    <tr>\n",
       "      <th>4</th>\n",
       "      <td>2022-01-01 00:05:00</td>\n",
       "      <td>2022-01-01 01:17:00</td>\n",
       "      <td>4353</td>\n",
       "      <td>7334</td>\n",
       "      <td>7038</td>\n",
       "      <td>5074</td>\n",
       "      <td>Casual</td>\n",
       "    </tr>\n",
       "    <tr>\n",
       "      <th>...</th>\n",
       "      <td>...</td>\n",
       "      <td>...</td>\n",
       "      <td>...</td>\n",
       "      <td>...</td>\n",
       "      <td>...</td>\n",
       "      <td>...</td>\n",
       "      <td>...</td>\n",
       "    </tr>\n",
       "    <tr>\n",
       "      <th>4620464</th>\n",
       "      <td>2022-12-31 23:58:00</td>\n",
       "      <td>2023-01-01 00:45:00</td>\n",
       "      <td>2825</td>\n",
       "      <td>7374</td>\n",
       "      <td>7048</td>\n",
       "      <td>788</td>\n",
       "      <td>Casual</td>\n",
       "    </tr>\n",
       "    <tr>\n",
       "      <th>4620465</th>\n",
       "      <td>2022-12-31 23:58:00</td>\n",
       "      <td>2023-01-01 00:27:00</td>\n",
       "      <td>1764</td>\n",
       "      <td>7029</td>\n",
       "      <td>7164</td>\n",
       "      <td>536</td>\n",
       "      <td>Casual</td>\n",
       "    </tr>\n",
       "    <tr>\n",
       "      <th>4620466</th>\n",
       "      <td>2022-12-31 23:58:00</td>\n",
       "      <td>2023-01-01 00:06:00</td>\n",
       "      <td>469</td>\n",
       "      <td>7713</td>\n",
       "      <td>7028</td>\n",
       "      <td>6306</td>\n",
       "      <td>Casual</td>\n",
       "    </tr>\n",
       "    <tr>\n",
       "      <th>4620467</th>\n",
       "      <td>2022-12-31 23:59:00</td>\n",
       "      <td>2023-01-01 00:09:00</td>\n",
       "      <td>588</td>\n",
       "      <td>7130</td>\n",
       "      <td>7012</td>\n",
       "      <td>3182</td>\n",
       "      <td>Casual</td>\n",
       "    </tr>\n",
       "    <tr>\n",
       "      <th>4620468</th>\n",
       "      <td>2022-12-31 23:59:00</td>\n",
       "      <td>2023-01-01 00:13:00</td>\n",
       "      <td>795</td>\n",
       "      <td>7027</td>\n",
       "      <td>7269</td>\n",
       "      <td>113</td>\n",
       "      <td>Casual</td>\n",
       "    </tr>\n",
       "  </tbody>\n",
       "</table>\n",
       "<p>4225333 rows × 7 columns</p>\n",
       "</div>"
      ],
      "text/plain": [
       "                 Start Time            End Time  Duration  Start Station Id  \\\n",
       "0       2022-01-01 00:02:00 2022-01-01 01:15:00      4335              7334   \n",
       "1       2022-01-01 00:02:00 2022-01-01 00:05:00       126              7443   \n",
       "2       2022-01-01 00:04:00 2022-01-01 00:19:00       942              7399   \n",
       "3       2022-01-01 00:04:00 2022-01-01 01:15:00      4256              7334   \n",
       "4       2022-01-01 00:05:00 2022-01-01 01:17:00      4353              7334   \n",
       "...                     ...                 ...       ...               ...   \n",
       "4620464 2022-12-31 23:58:00 2023-01-01 00:45:00      2825              7374   \n",
       "4620465 2022-12-31 23:58:00 2023-01-01 00:27:00      1764              7029   \n",
       "4620466 2022-12-31 23:58:00 2023-01-01 00:06:00       469              7713   \n",
       "4620467 2022-12-31 23:59:00 2023-01-01 00:09:00       588              7130   \n",
       "4620468 2022-12-31 23:59:00 2023-01-01 00:13:00       795              7027   \n",
       "\n",
       "         End Station Id  Bike Id User Type  \n",
       "0                  7269     5139    Casual  \n",
       "1                  7270     3992    Annual  \n",
       "2                  7686      361    Annual  \n",
       "3                  7269     4350    Casual  \n",
       "4                  7038     5074    Casual  \n",
       "...                 ...      ...       ...  \n",
       "4620464            7048      788    Casual  \n",
       "4620465            7164      536    Casual  \n",
       "4620466            7028     6306    Casual  \n",
       "4620467            7012     3182    Casual  \n",
       "4620468            7269      113    Casual  \n",
       "\n",
       "[4225333 rows x 7 columns]"
      ]
     },
     "execution_count": 347,
     "metadata": {},
     "output_type": "execute_result"
    }
   ],
   "source": [
    "df_3[~df_3['End Station Id'].isin(missing_station_id)]"
   ]
  },
  {
   "cell_type": "code",
   "execution_count": null,
   "id": "325f2092",
   "metadata": {},
   "outputs": [],
   "source": []
  }
 ],
 "metadata": {
  "kernelspec": {
   "display_name": "Python 3 (ipykernel)",
   "language": "python",
   "name": "python3"
  },
  "language_info": {
   "codemirror_mode": {
    "name": "ipython",
    "version": 3
   },
   "file_extension": ".py",
   "mimetype": "text/x-python",
   "name": "python",
   "nbconvert_exporter": "python",
   "pygments_lexer": "ipython3",
   "version": "3.9.12"
  }
 },
 "nbformat": 4,
 "nbformat_minor": 5
}
