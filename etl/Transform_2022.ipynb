{
 "cells": [
  {
   "cell_type": "code",
   "execution_count": 1,
   "id": "4341fcb4",
   "metadata": {},
   "outputs": [],
   "source": [
    "# Dependencies\n",
    "import os\n",
    "import json\n",
    "from pprint import pprint\n",
    "from geojson import Feature, Point, FeatureCollection\n",
    "\n",
    "import pandas as pd\n",
    "import numpy as np\n",
    "import datetime as dt\n",
    "import calendar\n",
    "from matplotlib import pyplot as plt"
   ]
  },
  {
   "cell_type": "code",
   "execution_count": 2,
   "id": "a201bcd5",
   "metadata": {},
   "outputs": [
    {
     "name": "stdout",
     "output_type": "stream",
     "text": [
      "<class 'pandas.core.frame.DataFrame'>\n",
      "RangeIndex: 4620469 entries, 0 to 4620468\n",
      "Data columns (total 9 columns):\n",
      " #   Column              Non-Null Count    Dtype  \n",
      "---  ------              --------------    -----  \n",
      " 0   Trip  Duration      4620469 non-null  int64  \n",
      " 1   Start Station Id    4620469 non-null  int64  \n",
      " 2   Start Time          4620469 non-null  object \n",
      " 3   Start Station Name  4437003 non-null  object \n",
      " 4   End Station Id      4619190 non-null  float64\n",
      " 5   End Time            4620469 non-null  object \n",
      " 6   End Station Name    4435503 non-null  object \n",
      " 7   Bike Id             4620469 non-null  int64  \n",
      " 8   User Type           4620469 non-null  object \n",
      "dtypes: float64(1), int64(3), object(5)\n",
      "memory usage: 317.3+ MB\n"
     ]
    }
   ],
   "source": [
    "# Import the ridership CSV file.\n",
    "df = pd.read_csv(os.path.join('data', '2022', 'bst_ridership.csv'))\n",
    "df.info(show_counts=True)"
   ]
  },
  {
   "cell_type": "markdown",
   "id": "cf1a1a50",
   "metadata": {},
   "source": [
    "## Stage 1: Data Type Conversions"
   ]
  },
  {
   "cell_type": "code",
   "execution_count": 3,
   "id": "f180ab18",
   "metadata": {},
   "outputs": [],
   "source": [
    "df_1 = df.copy()"
   ]
  },
  {
   "cell_type": "code",
   "execution_count": 4,
   "id": "e19456d2",
   "metadata": {},
   "outputs": [],
   "source": [
    "# Convert `Start Time` and `End Time` to datetime objects for easier downstream temporal manipulation.\n",
    "df_1['Start Time'] = pd.to_datetime(df_1['Start Time'])\n",
    "df_1['End Time'] = pd.to_datetime(df_1['End Time'])"
   ]
  },
  {
   "cell_type": "code",
   "execution_count": 5,
   "id": "255902b4",
   "metadata": {},
   "outputs": [],
   "source": [
    "# `End Station Id` should be of int64 type like `Start Station Id` but it's of float64 type due to the presence of NaNs when \n",
    "# the CSV file was read.\n",
    "df_1['End Station Id'] = df_1['End Station Id'].astype('Int64')"
   ]
  },
  {
   "cell_type": "code",
   "execution_count": 6,
   "id": "a936d382",
   "metadata": {},
   "outputs": [],
   "source": [
    "# Reorder the columns.\n",
    "df_1 = df_1.iloc[:, [2,5,0,1,3,4,6,7,8]]"
   ]
  },
  {
   "cell_type": "code",
   "execution_count": 7,
   "id": "6c00a1b9",
   "metadata": {},
   "outputs": [
    {
     "name": "stdout",
     "output_type": "stream",
     "text": [
      "<class 'pandas.core.frame.DataFrame'>\n",
      "RangeIndex: 4620469 entries, 0 to 4620468\n",
      "Data columns (total 9 columns):\n",
      " #   Column              Non-Null Count    Dtype         \n",
      "---  ------              --------------    -----         \n",
      " 0   Start Time          4620469 non-null  datetime64[ns]\n",
      " 1   End Time            4620469 non-null  datetime64[ns]\n",
      " 2   Trip  Duration      4620469 non-null  int64         \n",
      " 3   Start Station Id    4620469 non-null  int64         \n",
      " 4   Start Station Name  4437003 non-null  object        \n",
      " 5   End Station Id      4619190 non-null  Int64         \n",
      " 6   End Station Name    4435503 non-null  object        \n",
      " 7   Bike Id             4620469 non-null  int64         \n",
      " 8   User Type           4620469 non-null  object        \n",
      "dtypes: Int64(1), datetime64[ns](2), int64(3), object(3)\n",
      "memory usage: 321.7+ MB\n"
     ]
    }
   ],
   "source": [
    "df_1.info(show_counts=True)"
   ]
  },
  {
   "cell_type": "code",
   "execution_count": 8,
   "id": "82165d64",
   "metadata": {},
   "outputs": [
    {
     "name": "stdout",
     "output_type": "stream",
     "text": [
      "Number of bikes in 2022:  6830\n",
      "Number of bike stations in 2022:  682\n"
     ]
    }
   ],
   "source": [
    "print('Number of bikes in 2022: ', df_1['Bike Id'].nunique())\n",
    "print('Number of bike stations in 2022: ', df_1['Start Station Id'].nunique())"
   ]
  },
  {
   "cell_type": "markdown",
   "id": "b55b177c",
   "metadata": {},
   "source": [
    "## Stage 2: Outliers in Trip Duration\n",
    "We need to eliminate obvious outliers for `Trip Duration`."
   ]
  },
  {
   "cell_type": "code",
   "execution_count": 9,
   "id": "e0b3d3d2",
   "metadata": {},
   "outputs": [
    {
     "name": "stdout",
     "output_type": "stream",
     "text": [
      "10155 trips did not last more than 1 min.\n",
      "679 trips lasted more than 1 day.\n"
     ]
    }
   ],
   "source": [
    "df_2 = df_1.copy()\n",
    "\n",
    "# Remove the substring `Member` in each record of `User Type`: `Annual Member` to `Annual` and `Casual Member` to `Casual`.\n",
    "# Replace `Annual` with `Member` for clearer distinction between the two types of riders, causual riders and membership riders.\n",
    "df_2['User Type'] = df_2['User Type'].str.replace(' Member', '')\n",
    "df_2['User Type'] = df_2['User Type'].str.replace('Annual', 'Member')\n",
    "\n",
    "# Rename `Trip Duration` to `Duration`.\n",
    "df_2.rename(columns={'Trip  Duration': 'Duration'}, inplace=True)\n",
    "\n",
    "# Limit the trip length to le 1 day but ge 1 min.\n",
    "print(f\"{(df_2['Duration']<60).sum()} trips did not last more than 1 min.\\n\"\n",
    "      f\"{(df_2['Duration']>(60*60*24)).sum()} trips lasted more than 1 day.\")\n",
    "df_2 = df_2[(df_2['Duration']>=60) & (df_2['Duration']<=(60*60*24))]"
   ]
  },
  {
   "cell_type": "code",
   "execution_count": 10,
   "id": "7b329f16",
   "metadata": {},
   "outputs": [],
   "source": [
    "# # Statistical Approach\n",
    "# # Option 1: Determine the outliers in terms of trip duration.\n",
    "# q1 = df_2['Duration'].quantile(0.25)\n",
    "# q3 = df_2['Duration'].quantile(0.75)\n",
    "# iqr = q3 - q1\n",
    "# print(f'q1={q1:.2f}, q3={q3:.2f}, iqr={iqr:.2f}')\n",
    "\n",
    "# outliers = df_2['Duration']>(q3+1.5*iqr)\n",
    "# # Note that q1-1.5*iqr is negative, so it's not included in the computation.\n",
    "# df_2[~outliers] # Can assign to df_2 if this approach is used.\n",
    "\n",
    "# # The way the distribution for casual riders trails off looks like information lost rather than outlier removal.\n",
    "# # Option 2: Determine the outliers in terms of trip duration for each `User Type`.\n",
    "# df_2[~outliers][df_2[~outliers]['User Type'] == 'Casual']['Duration'].hist(bins=30)\n",
    "# plt.xlim([0, q3+1.5*iqr])\n",
    "\n",
    "# # Compute the outliers for members.\n",
    "# df_2_annual = df_2[df_2['User Type'] == 'Member']\n",
    "# q1 = df_2_annual['Duration'].quantile(0.25)\n",
    "# q3 = df_2_annual['Duration'].quantile(0.75)\n",
    "# iqr = q3 - q1\n",
    "# print(f'Members: q1={q1:.2f}, q3={q3:.2f}, iqr={iqr:.2f}')\n",
    "# df_2_annual = df_2_annual[~(df_2_annual['Duration']>(q3+1.5*iqr))]\n",
    "\n",
    "# # Compute the outliers for casuals.\n",
    "# df_2_casual = df_2[df_2['User Type'] == 'Casual']\n",
    "# q1 = df_2_casual['Duration'].quantile(0.25)\n",
    "# q3 = df_2_casual['Duration'].quantile(0.75)\n",
    "# iqr = q3 - q1\n",
    "# print(f'Casuals: q1={q1:.2f}, q3={q3:.2f}, iqr={iqr:.2f}')\n",
    "# df_2_casual = df_2_casual[~(df_2_casual['Duration']>(q3+1.5*iqr))]\n",
    "\n",
    "# pd.concat([df_2_annual, df_2_casual]) # Can assign to df_2 if this approach is used."
   ]
  },
  {
   "cell_type": "code",
   "execution_count": 11,
   "id": "da31aeac",
   "metadata": {},
   "outputs": [
    {
     "name": "stdout",
     "output_type": "stream",
     "text": [
      "<class 'pandas.core.frame.DataFrame'>\n",
      "Int64Index: 4609635 entries, 0 to 4620468\n",
      "Data columns (total 9 columns):\n",
      " #   Column              Non-Null Count    Dtype         \n",
      "---  ------              --------------    -----         \n",
      " 0   Start Time          4609635 non-null  datetime64[ns]\n",
      " 1   End Time            4609635 non-null  datetime64[ns]\n",
      " 2   Duration            4609635 non-null  int64         \n",
      " 3   Start Station Id    4609635 non-null  int64         \n",
      " 4   Start Station Name  4426570 non-null  object        \n",
      " 5   End Station Id      4609602 non-null  Int64         \n",
      " 6   End Station Name    4426353 non-null  object        \n",
      " 7   Bike Id             4609635 non-null  int64         \n",
      " 8   User Type           4609635 non-null  object        \n",
      "dtypes: Int64(1), datetime64[ns](2), int64(3), object(3)\n",
      "memory usage: 356.1+ MB\n"
     ]
    }
   ],
   "source": [
    "df_2.info(show_counts=True)"
   ]
  },
  {
   "cell_type": "markdown",
   "id": "99450917",
   "metadata": {},
   "source": [
    "### `User Type`"
   ]
  },
  {
   "cell_type": "code",
   "execution_count": 12,
   "id": "2137bcdc",
   "metadata": {},
   "outputs": [
    {
     "data": {
      "text/html": [
       "<div>\n",
       "<style scoped>\n",
       "    .dataframe tbody tr th:only-of-type {\n",
       "        vertical-align: middle;\n",
       "    }\n",
       "\n",
       "    .dataframe tbody tr th {\n",
       "        vertical-align: top;\n",
       "    }\n",
       "\n",
       "    .dataframe thead th {\n",
       "        text-align: right;\n",
       "    }\n",
       "</style>\n",
       "<table border=\"1\" class=\"dataframe\">\n",
       "  <thead>\n",
       "    <tr style=\"text-align: right;\">\n",
       "      <th></th>\n",
       "      <th>Date</th>\n",
       "      <th>Month</th>\n",
       "      <th>Day of Week</th>\n",
       "      <th>Hour</th>\n",
       "      <th>Duration</th>\n",
       "      <th>User Type</th>\n",
       "    </tr>\n",
       "  </thead>\n",
       "  <tbody>\n",
       "    <tr>\n",
       "      <th>0</th>\n",
       "      <td>2022-01-01</td>\n",
       "      <td>1</td>\n",
       "      <td>5</td>\n",
       "      <td>0</td>\n",
       "      <td>4335</td>\n",
       "      <td>Casual</td>\n",
       "    </tr>\n",
       "    <tr>\n",
       "      <th>1</th>\n",
       "      <td>2022-01-01</td>\n",
       "      <td>1</td>\n",
       "      <td>5</td>\n",
       "      <td>0</td>\n",
       "      <td>126</td>\n",
       "      <td>Member</td>\n",
       "    </tr>\n",
       "    <tr>\n",
       "      <th>2</th>\n",
       "      <td>2022-01-01</td>\n",
       "      <td>1</td>\n",
       "      <td>5</td>\n",
       "      <td>0</td>\n",
       "      <td>942</td>\n",
       "      <td>Member</td>\n",
       "    </tr>\n",
       "    <tr>\n",
       "      <th>3</th>\n",
       "      <td>2022-01-01</td>\n",
       "      <td>1</td>\n",
       "      <td>5</td>\n",
       "      <td>0</td>\n",
       "      <td>4256</td>\n",
       "      <td>Casual</td>\n",
       "    </tr>\n",
       "    <tr>\n",
       "      <th>4</th>\n",
       "      <td>2022-01-01</td>\n",
       "      <td>1</td>\n",
       "      <td>5</td>\n",
       "      <td>0</td>\n",
       "      <td>4353</td>\n",
       "      <td>Casual</td>\n",
       "    </tr>\n",
       "  </tbody>\n",
       "</table>\n",
       "</div>"
      ],
      "text/plain": [
       "         Date  Month  Day of Week  Hour  Duration User Type\n",
       "0  2022-01-01      1            5     0      4335    Casual\n",
       "1  2022-01-01      1            5     0       126    Member\n",
       "2  2022-01-01      1            5     0       942    Member\n",
       "3  2022-01-01      1            5     0      4256    Casual\n",
       "4  2022-01-01      1            5     0      4353    Casual"
      ]
     },
     "execution_count": 12,
     "metadata": {},
     "output_type": "execute_result"
    }
   ],
   "source": [
    "# Make a copy of the current DataFrame to prepare for `User Type` summaries.\n",
    "trips = df_2.copy()\n",
    "\n",
    "# Insert new columns `Date`, `Month`, `Day`, and `Hour` based on the start time of each recorded trip.\n",
    "ts = trips['Start Time']\n",
    "trips = trips.assign(Date=ts.dt.date, \n",
    "                     Month=ts.dt.month, # ts.dt.strftime('%b')\n",
    "                     Day=ts.dt.weekday, # ts.dt.strftime('%a')\n",
    "                     Hour=ts.dt.hour)\n",
    "trips.rename(columns={'Day': 'Day of Week'}, inplace=True)\n",
    "\n",
    "# Drop columns that are no longer relevant.\n",
    "trips.drop(columns=['Start Time', 'End Time', \n",
    "                    'Start Station Id', 'Start Station Name',\n",
    "                    'End Station Id', 'End Station Name', 'Bike Id'], inplace=True)\n",
    "\n",
    "# Reorder the columns.\n",
    "trips = trips.iloc[:, [2,3,4,5,0,1]]\n",
    "trips.head()"
   ]
  },
  {
   "cell_type": "code",
   "execution_count": 13,
   "id": "7f8d3be2",
   "metadata": {},
   "outputs": [],
   "source": [
    "# Create a table that summarizes the trip count by year, month, day of the week, and hour.\n",
    "# by year\n",
    "trip_count_by_year = df_2['User Type'].value_counts().sort_index().to_frame(name='Yearly')\n",
    "# by month\n",
    "trip_count_by_month = trips.groupby(['Month', 'User Type'])['User Type'].count().unstack().T\n",
    "trip_count_by_month.columns = trip_count_by_month.columns.map(lambda x:calendar.month_abbr[x])\n",
    "# by day of the week\n",
    "trip_count_by_dow = trips.groupby(['Day of Week', 'User Type'])['User Type'].count().unstack().T\n",
    "trip_count_by_dow.columns = trip_count_by_dow.columns.map(lambda x:calendar.day_abbr[x])\n",
    "# by hour\n",
    "trip_count_by_hour = trips.groupby(['Hour', 'User Type'])['User Type'].count().unstack().T\n",
    "# Concatenate them and export the table to a JSON file.\n",
    "trip_count = pd.concat([trip_count_by_year, \n",
    "                        trip_count_by_month, \n",
    "                        trip_count_by_dow,\n",
    "                        trip_count_by_hour], axis=1)"
   ]
  },
  {
   "cell_type": "code",
   "execution_count": 14,
   "id": "b652fdcb",
   "metadata": {},
   "outputs": [
    {
     "data": {
      "text/html": [
       "<div>\n",
       "<style scoped>\n",
       "    .dataframe tbody tr th:only-of-type {\n",
       "        vertical-align: middle;\n",
       "    }\n",
       "\n",
       "    .dataframe tbody tr th {\n",
       "        vertical-align: top;\n",
       "    }\n",
       "\n",
       "    .dataframe thead th {\n",
       "        text-align: right;\n",
       "    }\n",
       "</style>\n",
       "<table border=\"1\" class=\"dataframe\">\n",
       "  <thead>\n",
       "    <tr style=\"text-align: right;\">\n",
       "      <th></th>\n",
       "      <th>Yearly</th>\n",
       "      <th>Jan</th>\n",
       "      <th>Feb</th>\n",
       "      <th>Mar</th>\n",
       "      <th>Apr</th>\n",
       "      <th>May</th>\n",
       "      <th>Jun</th>\n",
       "      <th>Jul</th>\n",
       "      <th>Aug</th>\n",
       "      <th>Sep</th>\n",
       "      <th>...</th>\n",
       "      <th>14</th>\n",
       "      <th>15</th>\n",
       "      <th>16</th>\n",
       "      <th>17</th>\n",
       "      <th>18</th>\n",
       "      <th>19</th>\n",
       "      <th>20</th>\n",
       "      <th>21</th>\n",
       "      <th>22</th>\n",
       "      <th>23</th>\n",
       "    </tr>\n",
       "  </thead>\n",
       "  <tbody>\n",
       "    <tr>\n",
       "      <th>Casual</th>\n",
       "      <td>2872858</td>\n",
       "      <td>16169</td>\n",
       "      <td>20397</td>\n",
       "      <td>58551</td>\n",
       "      <td>128209</td>\n",
       "      <td>344635</td>\n",
       "      <td>470732</td>\n",
       "      <td>366120</td>\n",
       "      <td>412283</td>\n",
       "      <td>383239</td>\n",
       "      <td>...</td>\n",
       "      <td>181210</td>\n",
       "      <td>199630</td>\n",
       "      <td>232649</td>\n",
       "      <td>284724</td>\n",
       "      <td>265619</td>\n",
       "      <td>217499</td>\n",
       "      <td>167354</td>\n",
       "      <td>129061</td>\n",
       "      <td>101521</td>\n",
       "      <td>80800</td>\n",
       "    </tr>\n",
       "    <tr>\n",
       "      <th>Member</th>\n",
       "      <td>1736777</td>\n",
       "      <td>40218</td>\n",
       "      <td>46436</td>\n",
       "      <td>93130</td>\n",
       "      <td>117319</td>\n",
       "      <td>159406</td>\n",
       "      <td>133901</td>\n",
       "      <td>312619</td>\n",
       "      <td>291325</td>\n",
       "      <td>217861</td>\n",
       "      <td>...</td>\n",
       "      <td>95225</td>\n",
       "      <td>107367</td>\n",
       "      <td>135103</td>\n",
       "      <td>174425</td>\n",
       "      <td>154736</td>\n",
       "      <td>119074</td>\n",
       "      <td>88888</td>\n",
       "      <td>68959</td>\n",
       "      <td>53870</td>\n",
       "      <td>41297</td>\n",
       "    </tr>\n",
       "  </tbody>\n",
       "</table>\n",
       "<p>2 rows × 44 columns</p>\n",
       "</div>"
      ],
      "text/plain": [
       "         Yearly    Jan    Feb    Mar     Apr     May     Jun     Jul     Aug  \\\n",
       "Casual  2872858  16169  20397  58551  128209  344635  470732  366120  412283   \n",
       "Member  1736777  40218  46436  93130  117319  159406  133901  312619  291325   \n",
       "\n",
       "           Sep  ...      14      15      16      17      18      19      20  \\\n",
       "Casual  383239  ...  181210  199630  232649  284724  265619  217499  167354   \n",
       "Member  217861  ...   95225  107367  135103  174425  154736  119074   88888   \n",
       "\n",
       "            21      22     23  \n",
       "Casual  129061  101521  80800  \n",
       "Member   68959   53870  41297  \n",
       "\n",
       "[2 rows x 44 columns]"
      ]
     },
     "execution_count": 14,
     "metadata": {},
     "output_type": "execute_result"
    }
   ],
   "source": [
    "trip_count"
   ]
  },
  {
   "cell_type": "code",
   "execution_count": 15,
   "id": "b7f9fde4",
   "metadata": {},
   "outputs": [
    {
     "data": {
      "image/png": "[encoded data removed]",
      "text/plain": [
       "<Figure size 432x288 with 1 Axes>"
      ]
     },
     "metadata": {
      "needs_background": "light"
     },
     "output_type": "display_data"
    }
   ],
   "source": [
    "trip_count.T.iloc[1:13].plot.bar()\n",
    "plt.ylim([0, 500000]);"
   ]
  },
  {
   "cell_type": "code",
   "execution_count": 16,
   "id": "7296e978",
   "metadata": {},
   "outputs": [
    {
     "data": {
      "image/png": "[encoded data removed]",
      "text/plain": [
       "<Figure size 432x288 with 1 Axes>"
      ]
     },
     "metadata": {
      "needs_background": "light"
     },
     "output_type": "display_data"
    }
   ],
   "source": [
    "trip_count.T.iloc[13:20].plot.bar()\n",
    "plt.ylim([0, 600000]);"
   ]
  },
  {
   "cell_type": "code",
   "execution_count": 17,
   "id": "483ee605",
   "metadata": {},
   "outputs": [
    {
     "data": {
      "image/png": "[encoded data removed]",
      "text/plain": [
       "<Figure size 432x288 with 1 Axes>"
      ]
     },
     "metadata": {
      "needs_background": "light"
     },
     "output_type": "display_data"
    }
   ],
   "source": [
    "trip_count.T.iloc[20:44].plot.bar()\n",
    "plt.ylim([0, 300000]);"
   ]
  },
  {
   "cell_type": "code",
   "execution_count": 18,
   "id": "3629f641",
   "metadata": {},
   "outputs": [],
   "source": [
    "# Create a table that summarizes the average trip duration by year, month, day of the week, and hour.\n",
    "# By year\n",
    "avg_dur_by_year = trips.groupby('User Type')['Duration'].mean().sort_index().to_frame(name='Yearly')\n",
    "# By month\n",
    "avg_dur_by_month = trips.groupby(['Month', 'User Type'])['Duration'].mean().unstack().T\n",
    "avg_dur_by_month.columns = avg_dur_by_month.columns.map(lambda x:calendar.month_abbr[x])\n",
    "# By day of the week\n",
    "avg_dur_by_dow = trips.groupby(['Day of Week', 'User Type'])['Duration'].mean().unstack().T\n",
    "avg_dur_by_dow.columns = avg_dur_by_dow.columns.map(lambda x:calendar.day_abbr[x])\n",
    "# By hour\n",
    "avg_dur_by_hour = trips.groupby(['Hour', 'User Type'])['Duration'].mean().unstack().T\n",
    "# Concatenate them and export the table to a JSON file\n",
    "avg_dur = pd.concat([avg_dur_by_year, \n",
    "                     avg_dur_by_month, \n",
    "                     avg_dur_by_dow, \n",
    "                     avg_dur_by_hour], axis=1)"
   ]
  },
  {
   "cell_type": "code",
   "execution_count": 19,
   "id": "d865fc83",
   "metadata": {},
   "outputs": [
    {
     "data": {
      "text/html": [
       "<div>\n",
       "<style scoped>\n",
       "    .dataframe tbody tr th:only-of-type {\n",
       "        vertical-align: middle;\n",
       "    }\n",
       "\n",
       "    .dataframe tbody tr th {\n",
       "        vertical-align: top;\n",
       "    }\n",
       "\n",
       "    .dataframe thead th {\n",
       "        text-align: right;\n",
       "    }\n",
       "</style>\n",
       "<table border=\"1\" class=\"dataframe\">\n",
       "  <thead>\n",
       "    <tr style=\"text-align: right;\">\n",
       "      <th></th>\n",
       "      <th>Yearly</th>\n",
       "      <th>Jan</th>\n",
       "      <th>Feb</th>\n",
       "      <th>Mar</th>\n",
       "      <th>Apr</th>\n",
       "      <th>May</th>\n",
       "      <th>Jun</th>\n",
       "      <th>Jul</th>\n",
       "      <th>Aug</th>\n",
       "      <th>Sep</th>\n",
       "      <th>...</th>\n",
       "      <th>14</th>\n",
       "      <th>15</th>\n",
       "      <th>16</th>\n",
       "      <th>17</th>\n",
       "      <th>18</th>\n",
       "      <th>19</th>\n",
       "      <th>20</th>\n",
       "      <th>21</th>\n",
       "      <th>22</th>\n",
       "      <th>23</th>\n",
       "    </tr>\n",
       "    <tr>\n",
       "      <th>User Type</th>\n",
       "      <th></th>\n",
       "      <th></th>\n",
       "      <th></th>\n",
       "      <th></th>\n",
       "      <th></th>\n",
       "      <th></th>\n",
       "      <th></th>\n",
       "      <th></th>\n",
       "      <th></th>\n",
       "      <th></th>\n",
       "      <th></th>\n",
       "      <th></th>\n",
       "      <th></th>\n",
       "      <th></th>\n",
       "      <th></th>\n",
       "      <th></th>\n",
       "      <th></th>\n",
       "      <th></th>\n",
       "      <th></th>\n",
       "      <th></th>\n",
       "      <th></th>\n",
       "    </tr>\n",
       "  </thead>\n",
       "  <tbody>\n",
       "    <tr>\n",
       "      <th>Casual</th>\n",
       "      <td>1064.046363</td>\n",
       "      <td>972.005566</td>\n",
       "      <td>888.381625</td>\n",
       "      <td>989.857953</td>\n",
       "      <td>1098.639370</td>\n",
       "      <td>1150.820094</td>\n",
       "      <td>1068.263815</td>\n",
       "      <td>1252.476874</td>\n",
       "      <td>1161.170968</td>\n",
       "      <td>1041.672666</td>\n",
       "      <td>...</td>\n",
       "      <td>1137.186574</td>\n",
       "      <td>1131.600957</td>\n",
       "      <td>1096.364695</td>\n",
       "      <td>1065.218675</td>\n",
       "      <td>1085.717599</td>\n",
       "      <td>1112.829093</td>\n",
       "      <td>1107.406964</td>\n",
       "      <td>1084.487180</td>\n",
       "      <td>1088.510023</td>\n",
       "      <td>1117.212277</td>\n",
       "    </tr>\n",
       "    <tr>\n",
       "      <th>Member</th>\n",
       "      <td>700.816806</td>\n",
       "      <td>668.173007</td>\n",
       "      <td>641.050500</td>\n",
       "      <td>637.685687</td>\n",
       "      <td>663.648378</td>\n",
       "      <td>723.127843</td>\n",
       "      <td>714.681907</td>\n",
       "      <td>736.987115</td>\n",
       "      <td>727.691125</td>\n",
       "      <td>715.004126</td>\n",
       "      <td>...</td>\n",
       "      <td>701.946621</td>\n",
       "      <td>705.233088</td>\n",
       "      <td>714.114246</td>\n",
       "      <td>728.587485</td>\n",
       "      <td>731.756049</td>\n",
       "      <td>730.615819</td>\n",
       "      <td>730.155083</td>\n",
       "      <td>732.391537</td>\n",
       "      <td>736.786987</td>\n",
       "      <td>719.904327</td>\n",
       "    </tr>\n",
       "  </tbody>\n",
       "</table>\n",
       "<p>2 rows × 44 columns</p>\n",
       "</div>"
      ],
      "text/plain": [
       "                Yearly         Jan         Feb         Mar          Apr  \\\n",
       "User Type                                                                 \n",
       "Casual     1064.046363  972.005566  888.381625  989.857953  1098.639370   \n",
       "Member      700.816806  668.173007  641.050500  637.685687   663.648378   \n",
       "\n",
       "                   May          Jun          Jul          Aug          Sep  \\\n",
       "User Type                                                                    \n",
       "Casual     1150.820094  1068.263815  1252.476874  1161.170968  1041.672666   \n",
       "Member      723.127843   714.681907   736.987115   727.691125   715.004126   \n",
       "\n",
       "           ...           14           15           16           17  \\\n",
       "User Type  ...                                                       \n",
       "Casual     ...  1137.186574  1131.600957  1096.364695  1065.218675   \n",
       "Member     ...   701.946621   705.233088   714.114246   728.587485   \n",
       "\n",
       "                    18           19           20           21           22  \\\n",
       "User Type                                                                    \n",
       "Casual     1085.717599  1112.829093  1107.406964  1084.487180  1088.510023   \n",
       "Member      731.756049   730.615819   730.155083   732.391537   736.786987   \n",
       "\n",
       "                    23  \n",
       "User Type               \n",
       "Casual     1117.212277  \n",
       "Member      719.904327  \n",
       "\n",
       "[2 rows x 44 columns]"
      ]
     },
     "execution_count": 19,
     "metadata": {},
     "output_type": "execute_result"
    }
   ],
   "source": [
    "avg_dur"
   ]
  },
  {
   "cell_type": "code",
   "execution_count": 20,
   "id": "06557d99",
   "metadata": {},
   "outputs": [
    {
     "data": {
      "text/plain": [
       "User Type\n",
       "Casual    3056854106\n",
       "Member    1217162510\n",
       "Name: Duration, dtype: int64"
      ]
     },
     "execution_count": 20,
     "metadata": {},
     "output_type": "execute_result"
    }
   ],
   "source": [
    "# Calculate the total trip duration for each User Type.\n",
    "trips.groupby('User Type')['Duration'].sum().sort_index()"
   ]
  },
  {
   "cell_type": "code",
   "execution_count": 21,
   "id": "9a6bcb0a",
   "metadata": {},
   "outputs": [
    {
     "data": {
      "image/png": "[encoded data removed]",
      "text/plain": [
       "<Figure size 432x288 with 1 Axes>"
      ]
     },
     "metadata": {
      "needs_background": "light"
     },
     "output_type": "display_data"
    }
   ],
   "source": [
    "avg_dur.T.iloc[1:13].plot();"
   ]
  },
  {
   "cell_type": "code",
   "execution_count": 22,
   "id": "9e2d8df8",
   "metadata": {},
   "outputs": [
    {
     "data": {
      "image/png": "[encoded data removed]",
      "text/plain": [
       "<Figure size 432x288 with 1 Axes>"
      ]
     },
     "metadata": {
      "needs_background": "light"
     },
     "output_type": "display_data"
    }
   ],
   "source": [
    "avg_dur.T.iloc[13:20].plot();"
   ]
  },
  {
   "cell_type": "code",
   "execution_count": 23,
   "id": "a0aabf44",
   "metadata": {},
   "outputs": [
    {
     "data": {
      "image/png": "[encoded data removed]",
      "text/plain": [
       "<Figure size 432x288 with 1 Axes>"
      ]
     },
     "metadata": {
      "needs_background": "light"
     },
     "output_type": "display_data"
    }
   ],
   "source": [
    "avg_dur.T.iloc[20:44].plot();"
   ]
  },
  {
   "cell_type": "markdown",
   "id": "22f7e48a",
   "metadata": {},
   "source": [
    "### `Bike Id`\n",
    "This aspect of the dataset will be excluded from the current investigation but warrants future investigation into how the bikes are maintained and used within the system. Parameters of interest would include trip duration, idle duration, percentage of trips being quick transits (note the conservative approach below), and how widely and quickly a bike shared travels across the system (number of unique pickup stations versus total number of trips).\n",
    "\n",
    "Also, one feature to showcase could be to select a bike Id from the database and show all the logged activites on an open map. However, consider the size of the database: 6800 bikes and 4 million records will take declustering to present on Leaflet."
   ]
  },
  {
   "cell_type": "code",
   "execution_count": 24,
   "id": "621b9bdd",
   "metadata": {},
   "outputs": [],
   "source": [
    "# def idle_time(bike):\n",
    "#     '''\n",
    "#     This function calculates the idle time for each bike, which is the period of time between its last dropoff and next pickup.\n",
    "#     This in turn allows for the estimation of how many trips taken are quick transits.\n",
    "#     '''\n",
    "#     if len(bike) == 1:\n",
    "#         # If there is only one record of the bike in use, the idle time is based on the difference between the drop-off time\n",
    "#         # and the end of the year. Considering that all 3 bikes that saw only one trip in 2022 were used in December, this is\n",
    "#         # reasonble.\n",
    "#         # Bikes that saw only 1 trip had Id's 1986, 1253, and 513.\n",
    "#         idle = dt.datetime(2023, 1, 1, 0, 0, 0) - bike['End Time']\n",
    "#     else:\n",
    "#         idle = (bike['Start Time'] - bike['End Time'].shift()).iloc[1:]\n",
    "#     # Negative values that appear as a result of Daylight Saving on Nov 6, 2022 need to be adjusted. There are a total of 16\n",
    "#     # records that are affected.\n",
    "#     idle[idle.dt.total_seconds()<0] += dt.timedelta(seconds=3600)\n",
    "#     return idle.dt.total_seconds()"
   ]
  },
  {
   "cell_type": "code",
   "execution_count": 25,
   "id": "dcdc3b93",
   "metadata": {},
   "outputs": [],
   "source": [
    "# def bike_agg(bike):\n",
    "#     idle_periods = idle_time(bike)\n",
    "#     features ={\n",
    "#         'First Pickup': bike['Start Time'].min(),\n",
    "#         'Last Dropoff': bike['End Time'].max(),\n",
    "#         'Service Span': bike['End Time'].max() - bike['Start Time'].min(),\n",
    "#         'Total Number of Trips': bike['Duration'].count(),\n",
    "#         'Total Trip Duration': bike['Duration'].sum(),\n",
    "#         'Longest Trip Duration': bike['Duration'].max(),\n",
    "#         'Shortest Trip Duration': bike['Duration'].min(),\n",
    "#         'Total Idle Period': idle_periods.sum(),\n",
    "#         'Longest Idle Period': idle_periods.max(),\n",
    "#         'Shortest Idle Period': idle_periods.min()\n",
    "#     }\n",
    "#     return pd.Series(features, index=features.keys())"
   ]
  },
  {
   "cell_type": "code",
   "execution_count": 26,
   "id": "80fd2a65",
   "metadata": {},
   "outputs": [],
   "source": [
    "# # Apply the custom aggregation function to `Bike Id`.\n",
    "# bikes = df_2.groupby('Bike Id').apply(bike_agg)"
   ]
  },
  {
   "cell_type": "markdown",
   "id": "8ee8b84e",
   "metadata": {},
   "source": [
    "## Stage 3: Station Ids"
   ]
  },
  {
   "cell_type": "code",
   "execution_count": 27,
   "id": "efd42def",
   "metadata": {},
   "outputs": [
    {
     "name": "stdout",
     "output_type": "stream",
     "text": [
      "<class 'pandas.core.frame.DataFrame'>\n",
      "Int64Index: 655 entries, 7000 to 7772\n",
      "Data columns (total 3 columns):\n",
      " #   Column  Non-Null Count  Dtype  \n",
      "---  ------  --------------  -----  \n",
      " 0   Name    655 non-null    object \n",
      " 1   Lat     655 non-null    float64\n",
      " 2   Lon     655 non-null    float64\n",
      "dtypes: float64(2), object(1)\n",
      "memory usage: 20.5+ KB\n"
     ]
    }
   ],
   "source": [
    "# Import the latest station info and create a DataFrame for it.\n",
    "station_info = pd.read_json(os.path.join('data', 'station_info.json'))\n",
    "stations_todate = station_info.loc[:, ['station_id', 'name', 'lat', 'lon']]\n",
    "stations_todate.rename(columns={'station_id':'Station Id', 'name':'Name', 'lat':'Lat', 'lon':'Lon'}, inplace=True)\n",
    "stations_todate.set_index('Station Id', inplace=True)\n",
    "stations_todate.info()"
   ]
  },
  {
   "cell_type": "code",
   "execution_count": 28,
   "id": "85048b14",
   "metadata": {},
   "outputs": [
    {
     "name": "stdout",
     "output_type": "stream",
     "text": [
      "<class 'pandas.core.frame.DataFrame'>\n",
      "Int64Index: 4609602 entries, 0 to 4620468\n",
      "Data columns (total 7 columns):\n",
      " #   Column            Non-Null Count    Dtype         \n",
      "---  ------            --------------    -----         \n",
      " 0   Start Time        4609602 non-null  datetime64[ns]\n",
      " 1   End Time          4609602 non-null  datetime64[ns]\n",
      " 2   Duration          4609602 non-null  int64         \n",
      " 3   Start Station Id  4609602 non-null  int64         \n",
      " 4   End Station Id    4609602 non-null  Int64         \n",
      " 5   Bike Id           4609602 non-null  int64         \n",
      " 6   User Type         4609602 non-null  object        \n",
      "dtypes: Int64(1), datetime64[ns](2), int64(3), object(1)\n",
      "memory usage: 285.7+ MB\n"
     ]
    }
   ],
   "source": [
    "df_3 = df_2.copy()\n",
    "df_3.drop(columns=['Start Station Name', 'End Station Name'], inplace=True)\n",
    "df_3.dropna(inplace=True) # Only 33 records due to NaNs in `End Station Id`\n",
    "df_3.info(show_counts=True)"
   ]
  },
  {
   "cell_type": "code",
   "execution_count": 29,
   "id": "5bac3e25",
   "metadata": {},
   "outputs": [
    {
     "data": {
      "text/plain": [
       "38"
      ]
     },
     "execution_count": 29,
     "metadata": {},
     "output_type": "execute_result"
    }
   ],
   "source": [
    "# Compute how many stations are missing coord info if we want to map the results downstream through Leaflet\n",
    "station_id = df_3['Start Station Id'].unique()\n",
    "missing_station_id = []\n",
    "for i in station_id:\n",
    "    if i not in stations_todate.index:\n",
    "        missing_station_id.append(i)\n",
    "len(missing_station_id)"
   ]
  },
  {
   "cell_type": "code",
   "execution_count": 30,
   "id": "93e21714",
   "metadata": {
    "scrolled": false
   },
   "outputs": [],
   "source": [
    "# Create a custom aggregation function.\n",
    "def station_agg(grp):\n",
    "    features ={\n",
    "        'Yearly Casual Trips': grp[grp['User Type'] == 'Casual']['Duration'].count(),\n",
    "        'Yearly Total Trips': grp['Duration'].count(),\n",
    "        'June Casual Trips': grp[(grp['Start Time'].dt.month == 6) & (grp['User Type'] == 'Casual')]['Duration'].count(),\n",
    "        'June Casual Total Duration': grp[(grp['Start Time'].dt.month == 6) & (grp['User Type'] == 'Casual')]['Duration'].sum()\n",
    "    }\n",
    "    return pd.Series(features)\n",
    "\n",
    "stations = df_3.groupby('Start Station Id').apply(station_agg).rename_axis('Station Id')\n",
    "\n",
    "stations.insert(0, 'Yearly Casual Trip Percentage', stations['Yearly Casual Trips']*100/stations['Yearly Total Trips'])\n",
    "stations['June Casual Trip Average Duration'] = stations['June Casual Total Duration']/stations['June Casual Trips']\n",
    "stations['June Casual Trip Average Duration'] = stations['June Casual Trip Average Duration'].fillna(0)\n",
    "\n",
    "stations.drop(columns=['Yearly Casual Trips', 'June Casual Total Duration'], inplace=True)\n",
    "stations_summary = stations_todate.merge(stations, left_index=True, right_index=True)"
   ]
  },
  {
   "cell_type": "code",
   "execution_count": 31,
   "id": "5ef13685",
   "metadata": {},
   "outputs": [
    {
     "data": {
      "image/png": "[encoded data removed]",
      "text/plain": [
       "<Figure size 1080x720 with 2 Axes>"
      ]
     },
     "metadata": {
      "needs_background": "light"
     },
     "output_type": "display_data"
    }
   ],
   "source": [
    "fig, ax = plt.subplots(figsize=(15, 10))\n",
    "stations_summary.plot.scatter(\n",
    "    x='Lon', y='Lat',\n",
    "    c='June Casual Trip Average Duration', \n",
    "    colormap='viridis', # colormap=plt.cm.get_cmap('viridis').reversed()\n",
    "    alpha=0.5, ax=ax);"
   ]
  },
  {
   "cell_type": "markdown",
   "id": "33fd515a",
   "metadata": {},
   "source": [
    "### Flowmap\n",
    "Prepare a custom geoJSON file that aims to show traffic to the busiest end station during morning peak hour."
   ]
  },
  {
   "cell_type": "code",
   "execution_count": 32,
   "id": "cd4da839",
   "metadata": {},
   "outputs": [],
   "source": [
    "# Prepare the Dataframe to make sure that all station coordinates are available based on info to date.\n",
    "df_3 = df_3[df_3['Start Station Id'].isin(stations_todate.index)]\n",
    "df_3 = df_3[df_3['End Station Id'].isin(stations_todate.index)]"
   ]
  },
  {
   "cell_type": "code",
   "execution_count": 33,
   "id": "639ea647",
   "metadata": {},
   "outputs": [
    {
     "data": {
      "text/plain": [
       "7015    3646\n",
       "7047    1724\n",
       "7033    1632\n",
       "7502    1309\n",
       "7076    1151\n",
       "        ... \n",
       "7590       1\n",
       "7582       1\n",
       "7631       1\n",
       "7733       1\n",
       "7567       1\n",
       "Name: End Station Id, Length: 607, dtype: Int64"
      ]
     },
     "execution_count": 33,
     "metadata": {},
     "output_type": "execute_result"
    }
   ],
   "source": [
    "# Station with the id 7015 was the busiest for both casual and membership riders.\n",
    "df_3[(df_3['Start Time'].dt.hour == 8) & (df_3['User Type'] == 'Member')]['End Station Id'].value_counts()"
   ]
  },
  {
   "cell_type": "code",
   "execution_count": 34,
   "id": "5eecea27",
   "metadata": {},
   "outputs": [
    {
     "data": {
      "text/plain": [
       "7015    3697\n",
       "7047    1823\n",
       "7033    1784\n",
       "7502    1567\n",
       "7076    1476\n",
       "        ... \n",
       "7694       1\n",
       "7602       1\n",
       "7733       1\n",
       "7760       1\n",
       "7631       1\n",
       "Name: End Station Id, Length: 624, dtype: Int64"
      ]
     },
     "execution_count": 34,
     "metadata": {},
     "output_type": "execute_result"
    }
   ],
   "source": [
    "df_3[(df_3['Start Time'].dt.hour == 8) & (df_3['User Type'] == 'Casual')]['End Station Id'].value_counts()"
   ]
  },
  {
   "cell_type": "code",
   "execution_count": 35,
   "id": "c954cd62",
   "metadata": {},
   "outputs": [],
   "source": [
    "# This function outputs geoJOSN file in a format required of flowmap visualization.\n",
    "def flowmapJSON_manytoone(end_station, stations, end_id=None):\n",
    "    if end_id is None:\n",
    "        end_id = end_station.name\n",
    "    start_ids = end_station['Start Station Id'].unique()\n",
    "    feature_list = []\n",
    "    for start_id in start_ids:\n",
    "        if start_id in stations.index:\n",
    "            feature = Feature(geometry=Point((stations.loc[end_id]['Lon'], stations.loc[end_id]['Lat'])))\n",
    "            feature.properties = {\n",
    "                \"origin_id\": int(start_id),\n",
    "                \"origin_lon\": stations.loc[start_id]['Lon'],\n",
    "                \"origin_lat\": stations.loc[start_id]['Lat'],\n",
    "                \"destination_id\": int(end_id),\n",
    "                \"destination_lon\": stations.loc[end_id]['Lon'],\n",
    "                \"destination_lat\": stations.loc[end_id]['Lat']\n",
    "            }\n",
    "            feature_list.append(feature)\n",
    "    return FeatureCollection(feature_list)   "
   ]
  },
  {
   "cell_type": "code",
   "execution_count": 36,
   "id": "3f60fa98",
   "metadata": {},
   "outputs": [],
   "source": [
    "# # Option 1 for flowmapJSON_manytoone(): operate on all stations.\n",
    "# df_3.groupby('End Station Id').apply(\n",
    "#     flowmapJSON_manytoone, stations=stations_todate) #.to_json(os.path.join('data', '2022', 'stations_flowmap.json'), orient='index')\n",
    "\n",
    "# Option 2 for flowmapJSON_manytoone(): operate on a single end station.\n",
    "criteria = (df_3['End Station Id'] == 7015) & (df_3['Start Time'].dt.hour == 8) & (df_3['User Type'] == 'Casual')\n",
    "with open(os.path.join('data', '2022', 'flowmap.json'), 'w') as fp:\n",
    "    json.dump([flowmapJSON_manytoone(df_3[criteria], stations_todate, 7015)], fp)"
   ]
  },
  {
   "cell_type": "code",
   "execution_count": 37,
   "id": "e8560329",
   "metadata": {},
   "outputs": [],
   "source": [
    "# Export JSON files.\n",
    "# trip_count.to_json(os.path.join('data', '2022', 'trip_count_summary.json'), orient='index')\n",
    "# avg_dur.to_json(os.path.join('data', '2022', 'avg_dur_summary.json'), orient='index')\n",
    "# stations_summary.to_json(os.path.join('data', '2022', 'stations_summary.json'), orient='index')"
   ]
  }
 ],
 "metadata": {
  "kernelspec": {
   "display_name": "Python 3 (ipykernel)",
   "language": "python",
   "name": "python3"
  },
  "language_info": {
   "codemirror_mode": {
    "name": "ipython",
    "version": 3
   },
   "file_extension": ".py",
   "mimetype": "text/x-python",
   "name": "python",
   "nbconvert_exporter": "python",
   "pygments_lexer": "ipython3",
   "version": "3.9.12"
  }
 },
 "nbformat": 4,
 "nbformat_minor": 5
}
