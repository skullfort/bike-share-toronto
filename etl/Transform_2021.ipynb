{
 "cells": [
  {
   "cell_type": "code",
   "execution_count": 1,
   "id": "4341fcb4",
   "metadata": {},
   "outputs": [],
   "source": [
    "# Dependencies\n",
    "import os\n",
    "import json\n",
    "\n",
    "import pandas as pd\n",
    "import numpy as np\n",
    "import datetime as dt\n",
    "import calendar"
   ]
  },
  {
   "cell_type": "code",
   "execution_count": 2,
   "id": "a201bcd5",
   "metadata": {},
   "outputs": [
    {
     "name": "stdout",
     "output_type": "stream",
     "text": [
      "<class 'pandas.core.frame.DataFrame'>\n",
      "RangeIndex: 3575182 entries, 0 to 3575181\n",
      "Data columns (total 9 columns):\n",
      " #   Column              Non-Null Count    Dtype  \n",
      "---  ------              --------------    -----  \n",
      " 0   Trip  Duration      3575182 non-null  int64  \n",
      " 1   Start Station Id    3575182 non-null  int64  \n",
      " 2   Start Time          3575182 non-null  object \n",
      " 3   Start Station Name  3571502 non-null  object \n",
      " 4   End Station Id      3573213 non-null  float64\n",
      " 5   End Time            3575182 non-null  object \n",
      " 6   End Station Name    3569288 non-null  object \n",
      " 7   Bike Id             3574979 non-null  float64\n",
      " 8   User Type           3575182 non-null  object \n",
      "dtypes: float64(2), int64(2), object(5)\n",
      "memory usage: 245.5+ MB\n"
     ]
    }
   ],
   "source": [
    "# Import the ridership CSV file.\n",
    "df = pd.read_csv(os.path.join('data', '2021', 'bst_ridership.csv'))\n",
    "df.info(show_counts=True)"
   ]
  },
  {
   "cell_type": "markdown",
   "id": "cf1a1a50",
   "metadata": {},
   "source": [
    "## Stage 1: Data Type Conversions"
   ]
  },
  {
   "cell_type": "code",
   "execution_count": 3,
   "id": "f180ab18",
   "metadata": {},
   "outputs": [],
   "source": [
    "df_1 = df.copy()"
   ]
  },
  {
   "cell_type": "code",
   "execution_count": 4,
   "id": "e19456d2",
   "metadata": {},
   "outputs": [],
   "source": [
    "# Convert `Start Time` and `End Time` to datetime objects for easier downstream temporal manipulation.\n",
    "df_1['Start Time'] = pd.to_datetime(df_1['Start Time'])\n",
    "df_1['End Time'] = pd.to_datetime(df_1['End Time'])"
   ]
  },
  {
   "cell_type": "code",
   "execution_count": 5,
   "id": "255902b4",
   "metadata": {},
   "outputs": [],
   "source": [
    "# `End Station Id` should be of int64 type like `Start Station Id` but it's of float64 type due to the presence of NaNs when \n",
    "# the CSV file was read.\n",
    "df_1['End Station Id'] = df_1['End Station Id'].astype('Int64')"
   ]
  },
  {
   "cell_type": "code",
   "execution_count": 6,
   "id": "a936d382",
   "metadata": {},
   "outputs": [],
   "source": [
    "# Reorder the columns.\n",
    "df_1 = df_1.iloc[:, [2,5,0,1,3,4,6,7,8]]"
   ]
  },
  {
   "cell_type": "code",
   "execution_count": 7,
   "id": "6c00a1b9",
   "metadata": {},
   "outputs": [
    {
     "name": "stdout",
     "output_type": "stream",
     "text": [
      "<class 'pandas.core.frame.DataFrame'>\n",
      "RangeIndex: 3575182 entries, 0 to 3575181\n",
      "Data columns (total 9 columns):\n",
      " #   Column              Non-Null Count    Dtype         \n",
      "---  ------              --------------    -----         \n",
      " 0   Start Time          3575182 non-null  datetime64[ns]\n",
      " 1   End Time            3575182 non-null  datetime64[ns]\n",
      " 2   Trip  Duration      3575182 non-null  int64         \n",
      " 3   Start Station Id    3575182 non-null  int64         \n",
      " 4   Start Station Name  3571502 non-null  object        \n",
      " 5   End Station Id      3573213 non-null  Int64         \n",
      " 6   End Station Name    3569288 non-null  object        \n",
      " 7   Bike Id             3574979 non-null  float64       \n",
      " 8   User Type           3575182 non-null  object        \n",
      "dtypes: Int64(1), datetime64[ns](2), float64(1), int64(2), object(3)\n",
      "memory usage: 248.9+ MB\n"
     ]
    }
   ],
   "source": [
    "df_1.info(show_counts=True)"
   ]
  },
  {
   "cell_type": "code",
   "execution_count": 8,
   "id": "f5785898",
   "metadata": {},
   "outputs": [
    {
     "name": "stdout",
     "output_type": "stream",
     "text": [
      "Number of bikes in 2021:  6498\n",
      "Number of bike stations in 2021:  627\n"
     ]
    }
   ],
   "source": [
    "print('Number of bikes in 2021: ', df_1['Bike Id'].nunique())\n",
    "print('Number of bike stations in 2021: ', df_1['Start Station Id'].nunique())"
   ]
  },
  {
   "cell_type": "markdown",
   "id": "b55b177c",
   "metadata": {},
   "source": [
    "## Stage 2: Outliers in Trip Duration\n",
    "We need to eliminate obvious outliers for `Trip Duration`."
   ]
  },
  {
   "cell_type": "code",
   "execution_count": 9,
   "id": "e0b3d3d2",
   "metadata": {},
   "outputs": [
    {
     "name": "stdout",
     "output_type": "stream",
     "text": [
      "11279 trips did not last more than 1 min.\n",
      "602 trips lasted more than 1 day.\n"
     ]
    }
   ],
   "source": [
    "df_2 = df_1.copy()\n",
    "\n",
    "# Remove the substring `Member` in each record of `User Type`: `Annual Member` to `Annual` and `Casual Member` to `Casual`.\n",
    "# Replace `Annual` with `Member` for clearer distinction between the two types of riders, causual riders and membership riders.\n",
    "df_2['User Type'] = df_2['User Type'].str.replace(' Member', '')\n",
    "df_2['User Type'] = df_2['User Type'].str.replace('Annual', 'Member')\n",
    "\n",
    "# Rename `Trip Duration` to `Duration`.\n",
    "df_2.rename(columns={'Trip  Duration': 'Duration'}, inplace=True)\n",
    "\n",
    "# Limit the trip length to le 1 day but ge 1 min.\n",
    "print(f\"{(df_2['Duration']<60).sum()} trips did not last more than 1 min.\\n\"\n",
    "      f\"{(df_2['Duration']>(60*60*24)).sum()} trips lasted more than 1 day.\")\n",
    "df_2 = df_2[(df_2['Duration']>=60) & (df_2['Duration']<=(60*60*24))]"
   ]
  },
  {
   "cell_type": "code",
   "execution_count": 10,
   "id": "da31aeac",
   "metadata": {},
   "outputs": [
    {
     "name": "stdout",
     "output_type": "stream",
     "text": [
      "<class 'pandas.core.frame.DataFrame'>\n",
      "Int64Index: 3563301 entries, 0 to 3575181\n",
      "Data columns (total 9 columns):\n",
      " #   Column              Non-Null Count    Dtype         \n",
      "---  ------              --------------    -----         \n",
      " 0   Start Time          3563301 non-null  datetime64[ns]\n",
      " 1   End Time            3563301 non-null  datetime64[ns]\n",
      " 2   Duration            3563301 non-null  int64         \n",
      " 3   Start Station Id    3563301 non-null  int64         \n",
      " 4   Start Station Name  3559633 non-null  object        \n",
      " 5   End Station Id      3563243 non-null  Int64         \n",
      " 6   End Station Name    3559329 non-null  object        \n",
      " 7   Bike Id             3563098 non-null  float64       \n",
      " 8   User Type           3563301 non-null  object        \n",
      "dtypes: Int64(1), datetime64[ns](2), float64(1), int64(2), object(3)\n",
      "memory usage: 275.3+ MB\n"
     ]
    }
   ],
   "source": [
    "df_2.info(show_counts=True)"
   ]
  },
  {
   "cell_type": "markdown",
   "id": "99450917",
   "metadata": {},
   "source": [
    "### `User Type`"
   ]
  },
  {
   "cell_type": "code",
   "execution_count": 11,
   "id": "2137bcdc",
   "metadata": {},
   "outputs": [
    {
     "data": {
      "text/html": [
       "<div>\n",
       "<style scoped>\n",
       "    .dataframe tbody tr th:only-of-type {\n",
       "        vertical-align: middle;\n",
       "    }\n",
       "\n",
       "    .dataframe tbody tr th {\n",
       "        vertical-align: top;\n",
       "    }\n",
       "\n",
       "    .dataframe thead th {\n",
       "        text-align: right;\n",
       "    }\n",
       "</style>\n",
       "<table border=\"1\" class=\"dataframe\">\n",
       "  <thead>\n",
       "    <tr style=\"text-align: right;\">\n",
       "      <th></th>\n",
       "      <th>Date</th>\n",
       "      <th>Month</th>\n",
       "      <th>Day of Week</th>\n",
       "      <th>Hour</th>\n",
       "      <th>Duration</th>\n",
       "      <th>User Type</th>\n",
       "    </tr>\n",
       "  </thead>\n",
       "  <tbody>\n",
       "    <tr>\n",
       "      <th>0</th>\n",
       "      <td>2021-01-01</td>\n",
       "      <td>1</td>\n",
       "      <td>4</td>\n",
       "      <td>0</td>\n",
       "      <td>1315</td>\n",
       "      <td>Member</td>\n",
       "    </tr>\n",
       "    <tr>\n",
       "      <th>1</th>\n",
       "      <td>2021-01-01</td>\n",
       "      <td>1</td>\n",
       "      <td>4</td>\n",
       "      <td>0</td>\n",
       "      <td>396</td>\n",
       "      <td>Casual</td>\n",
       "    </tr>\n",
       "    <tr>\n",
       "      <th>2</th>\n",
       "      <td>2021-01-01</td>\n",
       "      <td>1</td>\n",
       "      <td>4</td>\n",
       "      <td>0</td>\n",
       "      <td>86</td>\n",
       "      <td>Member</td>\n",
       "    </tr>\n",
       "    <tr>\n",
       "      <th>3</th>\n",
       "      <td>2021-01-01</td>\n",
       "      <td>1</td>\n",
       "      <td>4</td>\n",
       "      <td>0</td>\n",
       "      <td>741</td>\n",
       "      <td>Casual</td>\n",
       "    </tr>\n",
       "    <tr>\n",
       "      <th>4</th>\n",
       "      <td>2021-01-01</td>\n",
       "      <td>1</td>\n",
       "      <td>4</td>\n",
       "      <td>0</td>\n",
       "      <td>2073</td>\n",
       "      <td>Casual</td>\n",
       "    </tr>\n",
       "  </tbody>\n",
       "</table>\n",
       "</div>"
      ],
      "text/plain": [
       "         Date  Month  Day of Week  Hour  Duration User Type\n",
       "0  2021-01-01      1            4     0      1315    Member\n",
       "1  2021-01-01      1            4     0       396    Casual\n",
       "2  2021-01-01      1            4     0        86    Member\n",
       "3  2021-01-01      1            4     0       741    Casual\n",
       "4  2021-01-01      1            4     0      2073    Casual"
      ]
     },
     "execution_count": 11,
     "metadata": {},
     "output_type": "execute_result"
    }
   ],
   "source": [
    "# Make a copy of the current DataFrame to prepare for `User Type` summaries.\n",
    "trips = df_2.copy()\n",
    "\n",
    "# Insert new columns `Date`, `Month`, `Day`, and `Hour` based on the start time of each recorded trip.\n",
    "ts = trips['Start Time']\n",
    "trips = trips.assign(Date=ts.dt.date, \n",
    "                     Month=ts.dt.month,\n",
    "                     Day=ts.dt.weekday,\n",
    "                     Hour=ts.dt.hour)\n",
    "trips.rename(columns={'Day': 'Day of Week'}, inplace=True)\n",
    "\n",
    "# Drop columns that are no longer relevant.\n",
    "trips.drop(columns=['Start Time', 'End Time', \n",
    "                    'Start Station Id', 'Start Station Name',\n",
    "                    'End Station Id', 'End Station Name', 'Bike Id'], inplace=True)\n",
    "\n",
    "# Reorder the columns.\n",
    "trips = trips.iloc[:, [2,3,4,5,0,1]]\n",
    "trips.head()"
   ]
  },
  {
   "cell_type": "code",
   "execution_count": 12,
   "id": "7f8d3be2",
   "metadata": {},
   "outputs": [],
   "source": [
    "# Create a table that summarizes the trip count by year, month, day of the week, and hour.\n",
    "# by year\n",
    "trip_count_by_year = df_2['User Type'].value_counts().sort_index().to_frame(name='Yearly')\n",
    "# by month\n",
    "trip_count_by_month = trips.groupby(['Month', 'User Type'])['User Type'].count().unstack().T\n",
    "trip_count_by_month.columns = trip_count_by_month.columns.map(lambda x:calendar.month_abbr[x])\n",
    "# by day of the week\n",
    "trip_count_by_dow = trips.groupby(['Day of Week', 'User Type'])['User Type'].count().unstack().T\n",
    "trip_count_by_dow.columns = trip_count_by_dow.columns.map(lambda x:calendar.day_abbr[x])\n",
    "# by hour\n",
    "trip_count_by_hour = trips.groupby(['Hour', 'User Type'])['User Type'].count().unstack().T\n",
    "# Concatenate them and export the table to a JSON file.\n",
    "trip_count = pd.concat([trip_count_by_year, \n",
    "                        trip_count_by_month, \n",
    "                        trip_count_by_dow,\n",
    "                        trip_count_by_hour], axis=1)"
   ]
  },
  {
   "cell_type": "code",
   "execution_count": 13,
   "id": "9be59c13",
   "metadata": {},
   "outputs": [
    {
     "data": {
      "text/html": [
       "<div>\n",
       "<style scoped>\n",
       "    .dataframe tbody tr th:only-of-type {\n",
       "        vertical-align: middle;\n",
       "    }\n",
       "\n",
       "    .dataframe tbody tr th {\n",
       "        vertical-align: top;\n",
       "    }\n",
       "\n",
       "    .dataframe thead th {\n",
       "        text-align: right;\n",
       "    }\n",
       "</style>\n",
       "<table border=\"1\" class=\"dataframe\">\n",
       "  <thead>\n",
       "    <tr style=\"text-align: right;\">\n",
       "      <th></th>\n",
       "      <th>Yearly</th>\n",
       "      <th>Jan</th>\n",
       "      <th>Feb</th>\n",
       "      <th>Mar</th>\n",
       "      <th>Apr</th>\n",
       "      <th>May</th>\n",
       "      <th>Jun</th>\n",
       "      <th>Jul</th>\n",
       "      <th>Aug</th>\n",
       "      <th>Sep</th>\n",
       "      <th>...</th>\n",
       "      <th>14</th>\n",
       "      <th>15</th>\n",
       "      <th>16</th>\n",
       "      <th>17</th>\n",
       "      <th>18</th>\n",
       "      <th>19</th>\n",
       "      <th>20</th>\n",
       "      <th>21</th>\n",
       "      <th>22</th>\n",
       "      <th>23</th>\n",
       "    </tr>\n",
       "  </thead>\n",
       "  <tbody>\n",
       "    <tr>\n",
       "      <th>Casual</th>\n",
       "      <td>1428596</td>\n",
       "      <td>24632</td>\n",
       "      <td>5786</td>\n",
       "      <td>34981</td>\n",
       "      <td>73391</td>\n",
       "      <td>183286</td>\n",
       "      <td>154971</td>\n",
       "      <td>170893</td>\n",
       "      <td>189968</td>\n",
       "      <td>166253</td>\n",
       "      <td>...</td>\n",
       "      <td>103147</td>\n",
       "      <td>111864</td>\n",
       "      <td>122094</td>\n",
       "      <td>137995</td>\n",
       "      <td>137440</td>\n",
       "      <td>118094</td>\n",
       "      <td>91326</td>\n",
       "      <td>65449</td>\n",
       "      <td>49070</td>\n",
       "      <td>35672</td>\n",
       "    </tr>\n",
       "    <tr>\n",
       "      <th>Member</th>\n",
       "      <td>2134705</td>\n",
       "      <td>60898</td>\n",
       "      <td>52884</td>\n",
       "      <td>121835</td>\n",
       "      <td>150216</td>\n",
       "      <td>239573</td>\n",
       "      <td>296517</td>\n",
       "      <td>291207</td>\n",
       "      <td>305444</td>\n",
       "      <td>287166</td>\n",
       "      <td>...</td>\n",
       "      <td>133243</td>\n",
       "      <td>145617</td>\n",
       "      <td>169258</td>\n",
       "      <td>210173</td>\n",
       "      <td>200118</td>\n",
       "      <td>163526</td>\n",
       "      <td>120886</td>\n",
       "      <td>83938</td>\n",
       "      <td>57466</td>\n",
       "      <td>41340</td>\n",
       "    </tr>\n",
       "  </tbody>\n",
       "</table>\n",
       "<p>2 rows × 44 columns</p>\n",
       "</div>"
      ],
      "text/plain": [
       "         Yearly    Jan    Feb     Mar     Apr     May     Jun     Jul     Aug  \\\n",
       "Casual  1428596  24632   5786   34981   73391  183286  154971  170893  189968   \n",
       "Member  2134705  60898  52884  121835  150216  239573  296517  291207  305444   \n",
       "\n",
       "           Sep  ...      14      15      16      17      18      19      20  \\\n",
       "Casual  166253  ...  103147  111864  122094  137995  137440  118094   91326   \n",
       "Member  287166  ...  133243  145617  169258  210173  200118  163526  120886   \n",
       "\n",
       "           21     22     23  \n",
       "Casual  65449  49070  35672  \n",
       "Member  83938  57466  41340  \n",
       "\n",
       "[2 rows x 44 columns]"
      ]
     },
     "execution_count": 13,
     "metadata": {},
     "output_type": "execute_result"
    }
   ],
   "source": [
    "trip_count"
   ]
  },
  {
   "cell_type": "code",
   "execution_count": 14,
   "id": "3629f641",
   "metadata": {},
   "outputs": [],
   "source": [
    "# Create a table that summarizes the average trip duration by year, month, day of the week, and hour.\n",
    "# By year\n",
    "avg_dur_by_year = trips.groupby('User Type')['Duration'].mean().sort_index().to_frame(name='Yearly')\n",
    "# By month\n",
    "avg_dur_by_month = trips.groupby(['Month', 'User Type'])['Duration'].mean().unstack().T\n",
    "avg_dur_by_month.columns = avg_dur_by_month.columns.map(lambda x:calendar.month_abbr[x])\n",
    "# By day of the week\n",
    "avg_dur_by_dow = trips.groupby(['Day of Week', 'User Type'])['Duration'].mean().unstack().T\n",
    "avg_dur_by_dow.columns = avg_dur_by_dow.columns.map(lambda x:calendar.day_abbr[x])\n",
    "# By hour\n",
    "avg_dur_by_hour = trips.groupby(['Hour', 'User Type'])['Duration'].mean().unstack().T\n",
    "# Concatenate them and export the table to a JSON file\n",
    "avg_dur = pd.concat([avg_dur_by_year, \n",
    "                     avg_dur_by_month, \n",
    "                     avg_dur_by_dow, \n",
    "                     avg_dur_by_hour], axis=1)"
   ]
  },
  {
   "cell_type": "code",
   "execution_count": 15,
   "id": "d865fc83",
   "metadata": {},
   "outputs": [
    {
     "data": {
      "text/html": [
       "<div>\n",
       "<style scoped>\n",
       "    .dataframe tbody tr th:only-of-type {\n",
       "        vertical-align: middle;\n",
       "    }\n",
       "\n",
       "    .dataframe tbody tr th {\n",
       "        vertical-align: top;\n",
       "    }\n",
       "\n",
       "    .dataframe thead th {\n",
       "        text-align: right;\n",
       "    }\n",
       "</style>\n",
       "<table border=\"1\" class=\"dataframe\">\n",
       "  <thead>\n",
       "    <tr style=\"text-align: right;\">\n",
       "      <th></th>\n",
       "      <th>Yearly</th>\n",
       "      <th>Jan</th>\n",
       "      <th>Feb</th>\n",
       "      <th>Mar</th>\n",
       "      <th>Apr</th>\n",
       "      <th>May</th>\n",
       "      <th>Jun</th>\n",
       "      <th>Jul</th>\n",
       "      <th>Aug</th>\n",
       "      <th>Sep</th>\n",
       "      <th>...</th>\n",
       "      <th>14</th>\n",
       "      <th>15</th>\n",
       "      <th>16</th>\n",
       "      <th>17</th>\n",
       "      <th>18</th>\n",
       "      <th>19</th>\n",
       "      <th>20</th>\n",
       "      <th>21</th>\n",
       "      <th>22</th>\n",
       "      <th>23</th>\n",
       "    </tr>\n",
       "    <tr>\n",
       "      <th>User Type</th>\n",
       "      <th></th>\n",
       "      <th></th>\n",
       "      <th></th>\n",
       "      <th></th>\n",
       "      <th></th>\n",
       "      <th></th>\n",
       "      <th></th>\n",
       "      <th></th>\n",
       "      <th></th>\n",
       "      <th></th>\n",
       "      <th></th>\n",
       "      <th></th>\n",
       "      <th></th>\n",
       "      <th></th>\n",
       "      <th></th>\n",
       "      <th></th>\n",
       "      <th></th>\n",
       "      <th></th>\n",
       "      <th></th>\n",
       "      <th></th>\n",
       "      <th></th>\n",
       "    </tr>\n",
       "  </thead>\n",
       "  <tbody>\n",
       "    <tr>\n",
       "      <th>Casual</th>\n",
       "      <td>1351.855550</td>\n",
       "      <td>959.543074</td>\n",
       "      <td>1308.600415</td>\n",
       "      <td>1608.936708</td>\n",
       "      <td>1721.316292</td>\n",
       "      <td>1861.33517</td>\n",
       "      <td>1734.619955</td>\n",
       "      <td>1458.584249</td>\n",
       "      <td>1402.537712</td>\n",
       "      <td>1291.434085</td>\n",
       "      <td>...</td>\n",
       "      <td>1460.158822</td>\n",
       "      <td>1425.608006</td>\n",
       "      <td>1391.598252</td>\n",
       "      <td>1348.790963</td>\n",
       "      <td>1352.098698</td>\n",
       "      <td>1379.756338</td>\n",
       "      <td>1365.364277</td>\n",
       "      <td>1333.486547</td>\n",
       "      <td>1374.461259</td>\n",
       "      <td>1404.427366</td>\n",
       "    </tr>\n",
       "    <tr>\n",
       "      <th>Member</th>\n",
       "      <td>766.052013</td>\n",
       "      <td>705.880078</td>\n",
       "      <td>733.691646</td>\n",
       "      <td>766.368293</td>\n",
       "      <td>810.253834</td>\n",
       "      <td>867.99487</td>\n",
       "      <td>826.674143</td>\n",
       "      <td>779.927618</td>\n",
       "      <td>756.049004</td>\n",
       "      <td>724.441748</td>\n",
       "      <td>...</td>\n",
       "      <td>785.948905</td>\n",
       "      <td>785.796919</td>\n",
       "      <td>785.408270</td>\n",
       "      <td>786.694261</td>\n",
       "      <td>793.046957</td>\n",
       "      <td>794.800417</td>\n",
       "      <td>797.871813</td>\n",
       "      <td>785.870631</td>\n",
       "      <td>775.663018</td>\n",
       "      <td>745.274504</td>\n",
       "    </tr>\n",
       "  </tbody>\n",
       "</table>\n",
       "<p>2 rows × 44 columns</p>\n",
       "</div>"
      ],
      "text/plain": [
       "                Yearly         Jan          Feb          Mar          Apr  \\\n",
       "User Type                                                                   \n",
       "Casual     1351.855550  959.543074  1308.600415  1608.936708  1721.316292   \n",
       "Member      766.052013  705.880078   733.691646   766.368293   810.253834   \n",
       "\n",
       "                  May          Jun          Jul          Aug          Sep  \\\n",
       "User Type                                                                   \n",
       "Casual     1861.33517  1734.619955  1458.584249  1402.537712  1291.434085   \n",
       "Member      867.99487   826.674143   779.927618   756.049004   724.441748   \n",
       "\n",
       "           ...           14           15           16           17  \\\n",
       "User Type  ...                                                       \n",
       "Casual     ...  1460.158822  1425.608006  1391.598252  1348.790963   \n",
       "Member     ...   785.948905   785.796919   785.408270   786.694261   \n",
       "\n",
       "                    18           19           20           21           22  \\\n",
       "User Type                                                                    \n",
       "Casual     1352.098698  1379.756338  1365.364277  1333.486547  1374.461259   \n",
       "Member      793.046957   794.800417   797.871813   785.870631   775.663018   \n",
       "\n",
       "                    23  \n",
       "User Type               \n",
       "Casual     1404.427366  \n",
       "Member      745.274504  \n",
       "\n",
       "[2 rows x 44 columns]"
      ]
     },
     "execution_count": 15,
     "metadata": {},
     "output_type": "execute_result"
    }
   ],
   "source": [
    "avg_dur"
   ]
  },
  {
   "cell_type": "code",
   "execution_count": 16,
   "id": "13227b5b",
   "metadata": {},
   "outputs": [
    {
     "data": {
      "text/plain": [
       "User Type\n",
       "Casual    1931255432\n",
       "Member    1635295063\n",
       "Name: Duration, dtype: int64"
      ]
     },
     "execution_count": 16,
     "metadata": {},
     "output_type": "execute_result"
    }
   ],
   "source": [
    "# Calculate the total trip duration for each `User Type`.\n",
    "trips.groupby('User Type')['Duration'].sum().sort_index()"
   ]
  },
  {
   "cell_type": "markdown",
   "id": "8ee8b84e",
   "metadata": {},
   "source": [
    "## Stage 3: Station Ids"
   ]
  },
  {
   "cell_type": "code",
   "execution_count": 17,
   "id": "efd42def",
   "metadata": {},
   "outputs": [
    {
     "name": "stdout",
     "output_type": "stream",
     "text": [
      "<class 'pandas.core.frame.DataFrame'>\n",
      "Int64Index: 655 entries, 7000 to 7772\n",
      "Data columns (total 3 columns):\n",
      " #   Column  Non-Null Count  Dtype  \n",
      "---  ------  --------------  -----  \n",
      " 0   Name    655 non-null    object \n",
      " 1   Lat     655 non-null    float64\n",
      " 2   Lon     655 non-null    float64\n",
      "dtypes: float64(2), object(1)\n",
      "memory usage: 20.5+ KB\n"
     ]
    }
   ],
   "source": [
    "station_info = pd.read_json(os.path.join('data', 'station_info.json'))\n",
    "stations_todate = station_info.loc[:, ['station_id', 'name', 'lat', 'lon']]\n",
    "stations_todate.rename(columns={'station_id':'Station Id', 'name':'Name', 'lat':'Lat', 'lon':'Lon'}, inplace=True)\n",
    "stations_todate.set_index('Station Id', inplace=True)\n",
    "stations_todate.info()"
   ]
  },
  {
   "cell_type": "code",
   "execution_count": 18,
   "id": "85048b14",
   "metadata": {},
   "outputs": [
    {
     "name": "stdout",
     "output_type": "stream",
     "text": [
      "<class 'pandas.core.frame.DataFrame'>\n",
      "Int64Index: 3563243 entries, 0 to 3575181\n",
      "Data columns (total 6 columns):\n",
      " #   Column            Non-Null Count    Dtype         \n",
      "---  ------            --------------    -----         \n",
      " 0   Start Time        3563243 non-null  datetime64[ns]\n",
      " 1   End Time          3563243 non-null  datetime64[ns]\n",
      " 2   Duration          3563243 non-null  int64         \n",
      " 3   Start Station Id  3563243 non-null  int64         \n",
      " 4   End Station Id    3563243 non-null  Int64         \n",
      " 5   User Type         3563243 non-null  object        \n",
      "dtypes: Int64(1), datetime64[ns](2), int64(2), object(1)\n",
      "memory usage: 193.7+ MB\n"
     ]
    }
   ],
   "source": [
    "df_3 = df_2.copy()\n",
    "df_3.drop(columns=['Start Station Name', 'End Station Name', 'Bike Id'], inplace=True)\n",
    "df_3.dropna(inplace=True) \n",
    "df_3.info(show_counts=True)"
   ]
  },
  {
   "cell_type": "code",
   "execution_count": 19,
   "id": "5bac3e25",
   "metadata": {},
   "outputs": [
    {
     "data": {
      "text/plain": [
       "47"
      ]
     },
     "execution_count": 19,
     "metadata": {},
     "output_type": "execute_result"
    }
   ],
   "source": [
    "# Compute how many stations won't be plotted due to missing coord info.\n",
    "station_id = df_3['Start Station Id'].unique()\n",
    "missing_station_id = []\n",
    "for i in station_id:\n",
    "    if i not in stations_todate.index:\n",
    "        missing_station_id.append(i)\n",
    "len(missing_station_id)"
   ]
  },
  {
   "cell_type": "code",
   "execution_count": 20,
   "id": "664e1939",
   "metadata": {},
   "outputs": [],
   "source": [
    "# Create a custom aggregation function.\n",
    "def station_agg(grp):\n",
    "    features ={\n",
    "        'Yearly Casual Trips': grp[grp['User Type'] == 'Casual']['Duration'].count(),\n",
    "        'Yearly Total Trips': grp['Duration'].count(),\n",
    "        'June Casual Trips': grp[(grp['Start Time'].dt.month == 6) & (grp['User Type'] == 'Casual')]['Duration'].count(),\n",
    "        'June Casual Total Duration': grp[(grp['Start Time'].dt.month == 6) & (grp['User Type'] == 'Casual')]['Duration'].sum()\n",
    "    }\n",
    "    return pd.Series(features)\n",
    "\n",
    "stations = df_3.groupby('Start Station Id').apply(station_agg).rename_axis('Station Id')\n",
    "\n",
    "stations.insert(0, 'Yearly Casual Trip Percentage', stations['Yearly Casual Trips']*100/stations['Yearly Total Trips'])\n",
    "stations['June Casual Trip Average Duration'] = stations['June Casual Total Duration']/stations['June Casual Trips']\n",
    "stations['June Casual Trip Average Duration'] = stations['June Casual Trip Average Duration'].fillna(0)\n",
    "\n",
    "stations.drop(columns=['Yearly Casual Trips', 'June Casual Total Duration'], inplace=True)\n",
    "stations_summary = stations_todate.merge(stations, left_index=True, right_index=True)"
   ]
  },
  {
   "cell_type": "code",
   "execution_count": 21,
   "id": "4bd4d946",
   "metadata": {},
   "outputs": [],
   "source": [
    "# Export JSON files.\n",
    "trip_count.to_json(os.path.join('data', '2021', 'trip_count_summary.json'), orient='index')\n",
    "avg_dur.to_json(os.path.join('data', '2021', 'avg_dur_summary.json'), orient='index')\n",
    "stations_summary.to_json(os.path.join('data', '2021', 'stations_summary.json'), orient='index')"
   ]
  }
 ],
 "metadata": {
  "kernelspec": {
   "display_name": "Python 3 (ipykernel)",
   "language": "python",
   "name": "python3"
  },
  "language_info": {
   "codemirror_mode": {
    "name": "ipython",
    "version": 3
   },
   "file_extension": ".py",
   "mimetype": "text/x-python",
   "name": "python",
   "nbconvert_exporter": "python",
   "pygments_lexer": "ipython3",
   "version": "3.9.12"
  }
 },
 "nbformat": 4,
 "nbformat_minor": 5
}
